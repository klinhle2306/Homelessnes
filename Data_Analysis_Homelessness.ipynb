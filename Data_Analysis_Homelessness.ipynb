{
  "nbformat": 4,
  "nbformat_minor": 0,
  "metadata": {
    "colab": {
      "provenance": [],
      "include_colab_link": true
    },
    "kernelspec": {
      "name": "python3",
      "display_name": "Python 3"
    },
    "language_info": {
      "name": "python"
    }
  },
  "cells": [
    {
      "cell_type": "markdown",
      "metadata": {
        "id": "view-in-github",
        "colab_type": "text"
      },
      "source": [
        "<a href=\"https://colab.research.google.com/github/klinhle2306/Homelessness/blob/main/Data_Analysis_Homelessness.ipynb\" target=\"_parent\"><img src=\"https://colab.research.google.com/assets/colab-badge.svg\" alt=\"Open In Colab\"/></a>"
      ]
    },
    {
      "cell_type": "markdown",
      "source": [
        "## Introduction"
      ],
      "metadata": {
        "id": "cOSJyABoshOK"
      }
    },
    {
      "cell_type": "markdown",
      "source": [
        "\n",
        "  The 2020 [point-in-time count](https://www.kingcounty.gov/elected/executive/constantine/news/release/2020/July/01-homeless-count.aspx) of people experiencing homelessness for Seattle/King County was 11,751. This represents a 5% increase over the 2019 count and reflects similar trend across many counties in the western U.S.. \n",
        "  \n",
        "  The U.S. Department of Housing and Urban Development (HUD) produced a report in 2019 [Market Predictors of Homelessness](https://www.huduser.gov/portal/sites/default/files/pdf/Market-Predictors-of-Homelessness.pdf) that describes a model-based approach to understanding of the relationship between local housing market factors and homelessness. \n",
        "  "
      ],
      "metadata": {
        "id": "26hIPGtBsi7g"
      }
    },
    {
      "cell_type": "markdown",
      "source": [
        "## Import libraries"
      ],
      "metadata": {
        "id": "dwvtDMCYlPus"
      }
    },
    {
      "cell_type": "code",
      "execution_count": 203,
      "metadata": {
        "id": "DQZAzYri_ru5"
      },
      "outputs": [],
      "source": [
        "#Import pandas, numpy, and matplotlib\n",
        "import pandas as pd\n",
        "import numpy as np\n",
        "import matplotlib.pyplot as plt\n",
        "\n",
        "#seaborn is a data visualization library built on matplotlib\n",
        "import seaborn as sns \n",
        "#set the plotting style \n",
        "sns.set_style(\"whitegrid\")\n",
        "\n",
        "#Model preprocessing\n",
        "from sklearn import preprocessing\n",
        "from sklearn.preprocessing import PolynomialFeatures, StandardScaler\n",
        "\n",
        "#Train-test splits and cross validation\n",
        "from sklearn.model_selection import train_test_split, cross_val_score, GridSearchCV, KFold, RandomizedSearchCV\n",
        "\n",
        "from scipy.stats import uniform, randint\n",
        "\n",
        "#Models\n",
        "from sklearn.linear_model import LinearRegression, RidgeCV, LassoCV, Ridge, Lasso\n",
        "import statsmodels.api as sm\n",
        "\n",
        "#Model metrics\n",
        "from sklearn.metrics import r2_score, mean_squared_error, confusion_matrix\n",
        "\n",
        "import statsmodels.formula.api as smf\n",
        "\n",
        "from sklearn import tree\n",
        "from sklearn.ensemble import RandomForestRegressor\n",
        "import xgboost as xgb\n",
        "\n",
        "# Model metrics and analysis\n",
        "from sklearn.metrics import  mean_squared_error, mean_absolute_error\n",
        "\n",
        "# plot tree model\n",
        "import graphviz\n",
        "\n",
        "# Subset selection\n",
        "from itertools import combinations\n",
        "from math import comb\n"
      ]
    },
    {
      "cell_type": "markdown",
      "source": [
        "## The data"
      ],
      "metadata": {
        "id": "PQfz_To0dhYX"
      }
    },
    {
      "cell_type": "markdown",
      "source": [
        "  \n",
        "  The [data](https://github.com/brian-fischer/DATA-3320/blob/main/homelessness/05b_analysis_file_update.csv) for this project are described in HUD's report [Market Predictors of Homelessness](https://www.huduser.gov/portal/sites/default/files/pdf/Market-Predictors-of-Homelessness.pdf) in the section titled DATA.\n",
        "\n",
        "  The data dictionary [HUD TO3 - 05b Analysis File - Data Dictionary.csv](https://github.com/brian-fischer/DATA-3320/blob/main/homelessness/HUD%20TO3%20-%2005b%20Analysis%20File%20-%20Data%20-%20Dictionary.csv) contains descriptions of all variables in the data set."
      ],
      "metadata": {
        "id": "v7Kz34aWiR-g"
      }
    },
    {
      "cell_type": "markdown",
      "source": [
        "## Load the clean data"
      ],
      "metadata": {
        "id": "5qccuG8vy7Ja"
      }
    },
    {
      "cell_type": "code",
      "source": [
        "df = pd.read_csv('https://raw.githubusercontent.com/klinhle2306/Homelessness/main/clean_homelessness.csv')"
      ],
      "metadata": {
        "id": "1dtaXy8_W5j_"
      },
      "execution_count": 204,
      "outputs": []
    },
    {
      "cell_type": "code",
      "source": [
        "df"
      ],
      "metadata": {
        "colab": {
          "base_uri": "https://localhost:8080/",
          "height": 487
        },
        "id": "XLDYp9vyRNXR",
        "outputId": "7df13fac-b167-4219-a537-f4634a3f68d9"
      },
      "execution_count": 205,
      "outputs": [
        {
          "output_type": "execute_result",
          "data": {
            "text/plain": [
              "     year coc_number  total_homeless  total_sheltered  total_unsheltered  \\\n",
              "0    2017     AK-500          1128.0            973.0              155.0   \n",
              "1    2017     AK-501           717.0            578.0              139.0   \n",
              "2    2017     AL-500          1092.0            875.0              217.0   \n",
              "3    2017     AL-501           606.0            341.0              265.0   \n",
              "4    2017     AL-502           155.0            133.0               22.0   \n",
              "..    ...        ...             ...              ...                ...   \n",
              "369  2017     WV-500           118.0            111.0                7.0   \n",
              "370  2017     WV-501           205.0            173.0               32.0   \n",
              "371  2017     WV-503           319.0            270.0               49.0   \n",
              "372  2017     WV-508           667.0            567.0              100.0   \n",
              "373  2017     WY-500           873.0            510.0              363.0   \n",
              "\n",
              "     total_population  house_price_index_2009  log_median_rent  utility_costs  \\\n",
              "0              297376               11.743647         2.438863       8.500000   \n",
              "1              444146                9.042710         2.249699      14.607715   \n",
              "2              958302               -0.852477         1.862248      19.492331   \n",
              "3              622361               -8.507004         1.858394      18.899839   \n",
              "4              265264                0.751167         1.362010      18.803186   \n",
              "..                ...                     ...              ...            ...   \n",
              "369            142272                8.888932         1.459895      16.585392   \n",
              "370            136349                2.793695         1.595035      17.695057   \n",
              "371            274427                3.041601         1.649177      17.768978   \n",
              "372           1275589                4.995708         1.587101      16.804708   \n",
              "373            584910                7.321831         1.941027      11.694517   \n",
              "\n",
              "     percentage_owners_cost_burden_2016  ...  rate_homeless  rate_sheltered  \\\n",
              "0                             15.334315  ...      37.931777       32.719520   \n",
              "1                             13.311670  ...      16.143340       13.013739   \n",
              "2                             12.188416  ...      11.395155        9.130733   \n",
              "3                             12.539132  ...       9.737114        5.479135   \n",
              "4                             10.374694  ...       5.843235        5.013873   \n",
              "..                                  ...  ...            ...             ...   \n",
              "369                            8.072322  ...       8.293972        7.801957   \n",
              "370                            9.171934  ...      15.034947       12.688029   \n",
              "371                            8.460396  ...      11.624221        9.838682   \n",
              "372                            9.594313  ...       5.228957        4.445005   \n",
              "373                           11.688841  ...      14.925373        8.719290   \n",
              "\n",
              "     rate_unsheltered  percent_black  percent_latino_hispanic  percent_asian  \\\n",
              "0            5.212257       0.053811                 0.089967       0.093952   \n",
              "1            3.129602       0.019530                 0.055727       0.040104   \n",
              "2            2.264422       0.331147                 0.040843       0.016632   \n",
              "3            4.257979       0.266807                 0.033816       0.016889   \n",
              "4            0.829362       0.090348                 0.042056       0.004901   \n",
              "..                ...            ...                      ...            ...   \n",
              "369          0.492015       0.020074                 0.011239       0.005103   \n",
              "370          2.346919       0.035123                 0.011837       0.009916   \n",
              "371          1.785539       0.053985                 0.010403       0.009529   \n",
              "372          0.783952       0.032104                 0.017506       0.007858   \n",
              "373          6.206083       0.011137                 0.099427       0.009212   \n",
              "\n",
              "     percent_pacific_islander  percent_population_0_19  \\\n",
              "0                    0.024387                 0.269161   \n",
              "1                    0.004593                 0.278562   \n",
              "2                    0.000311                 0.256410   \n",
              "3                    0.000382                 0.254735   \n",
              "4                    0.000471                 0.236545   \n",
              "..                        ...                      ...   \n",
              "369                  0.000098                 0.216459   \n",
              "370                  0.000132                 0.232763   \n",
              "371                  0.000255                 0.230819   \n",
              "372                  0.000220                 0.229239   \n",
              "373                  0.000725                 0.261642   \n",
              "\n",
              "     percent_population_65_plus  percent_female_population  \n",
              "0                      0.099140                   0.489629  \n",
              "1                      0.109905                   0.467752  \n",
              "2                      0.149058                   0.521677  \n",
              "3                      0.167126                   0.519669  \n",
              "4                      0.190708                   0.513937  \n",
              "..                          ...                        ...  \n",
              "369                    0.213703                   0.511886  \n",
              "370                    0.185069                   0.510895  \n",
              "371                    0.188192                   0.514122  \n",
              "372                    0.185788                   0.502335  \n",
              "373                    0.151030                   0.489385  \n",
              "\n",
              "[374 rows x 55 columns]"
            ],
            "text/html": [
              "\n",
              "  <div id=\"df-bddd56a7-f59e-4fdc-bb8b-6e5175b9d2da\">\n",
              "    <div class=\"colab-df-container\">\n",
              "      <div>\n",
              "<style scoped>\n",
              "    .dataframe tbody tr th:only-of-type {\n",
              "        vertical-align: middle;\n",
              "    }\n",
              "\n",
              "    .dataframe tbody tr th {\n",
              "        vertical-align: top;\n",
              "    }\n",
              "\n",
              "    .dataframe thead th {\n",
              "        text-align: right;\n",
              "    }\n",
              "</style>\n",
              "<table border=\"1\" class=\"dataframe\">\n",
              "  <thead>\n",
              "    <tr style=\"text-align: right;\">\n",
              "      <th></th>\n",
              "      <th>year</th>\n",
              "      <th>coc_number</th>\n",
              "      <th>total_homeless</th>\n",
              "      <th>total_sheltered</th>\n",
              "      <th>total_unsheltered</th>\n",
              "      <th>total_population</th>\n",
              "      <th>house_price_index_2009</th>\n",
              "      <th>log_median_rent</th>\n",
              "      <th>utility_costs</th>\n",
              "      <th>percentage_owners_cost_burden_2016</th>\n",
              "      <th>...</th>\n",
              "      <th>rate_homeless</th>\n",
              "      <th>rate_sheltered</th>\n",
              "      <th>rate_unsheltered</th>\n",
              "      <th>percent_black</th>\n",
              "      <th>percent_latino_hispanic</th>\n",
              "      <th>percent_asian</th>\n",
              "      <th>percent_pacific_islander</th>\n",
              "      <th>percent_population_0_19</th>\n",
              "      <th>percent_population_65_plus</th>\n",
              "      <th>percent_female_population</th>\n",
              "    </tr>\n",
              "  </thead>\n",
              "  <tbody>\n",
              "    <tr>\n",
              "      <th>0</th>\n",
              "      <td>2017</td>\n",
              "      <td>AK-500</td>\n",
              "      <td>1128.0</td>\n",
              "      <td>973.0</td>\n",
              "      <td>155.0</td>\n",
              "      <td>297376</td>\n",
              "      <td>11.743647</td>\n",
              "      <td>2.438863</td>\n",
              "      <td>8.500000</td>\n",
              "      <td>15.334315</td>\n",
              "      <td>...</td>\n",
              "      <td>37.931777</td>\n",
              "      <td>32.719520</td>\n",
              "      <td>5.212257</td>\n",
              "      <td>0.053811</td>\n",
              "      <td>0.089967</td>\n",
              "      <td>0.093952</td>\n",
              "      <td>0.024387</td>\n",
              "      <td>0.269161</td>\n",
              "      <td>0.099140</td>\n",
              "      <td>0.489629</td>\n",
              "    </tr>\n",
              "    <tr>\n",
              "      <th>1</th>\n",
              "      <td>2017</td>\n",
              "      <td>AK-501</td>\n",
              "      <td>717.0</td>\n",
              "      <td>578.0</td>\n",
              "      <td>139.0</td>\n",
              "      <td>444146</td>\n",
              "      <td>9.042710</td>\n",
              "      <td>2.249699</td>\n",
              "      <td>14.607715</td>\n",
              "      <td>13.311670</td>\n",
              "      <td>...</td>\n",
              "      <td>16.143340</td>\n",
              "      <td>13.013739</td>\n",
              "      <td>3.129602</td>\n",
              "      <td>0.019530</td>\n",
              "      <td>0.055727</td>\n",
              "      <td>0.040104</td>\n",
              "      <td>0.004593</td>\n",
              "      <td>0.278562</td>\n",
              "      <td>0.109905</td>\n",
              "      <td>0.467752</td>\n",
              "    </tr>\n",
              "    <tr>\n",
              "      <th>2</th>\n",
              "      <td>2017</td>\n",
              "      <td>AL-500</td>\n",
              "      <td>1092.0</td>\n",
              "      <td>875.0</td>\n",
              "      <td>217.0</td>\n",
              "      <td>958302</td>\n",
              "      <td>-0.852477</td>\n",
              "      <td>1.862248</td>\n",
              "      <td>19.492331</td>\n",
              "      <td>12.188416</td>\n",
              "      <td>...</td>\n",
              "      <td>11.395155</td>\n",
              "      <td>9.130733</td>\n",
              "      <td>2.264422</td>\n",
              "      <td>0.331147</td>\n",
              "      <td>0.040843</td>\n",
              "      <td>0.016632</td>\n",
              "      <td>0.000311</td>\n",
              "      <td>0.256410</td>\n",
              "      <td>0.149058</td>\n",
              "      <td>0.521677</td>\n",
              "    </tr>\n",
              "    <tr>\n",
              "      <th>3</th>\n",
              "      <td>2017</td>\n",
              "      <td>AL-501</td>\n",
              "      <td>606.0</td>\n",
              "      <td>341.0</td>\n",
              "      <td>265.0</td>\n",
              "      <td>622361</td>\n",
              "      <td>-8.507004</td>\n",
              "      <td>1.858394</td>\n",
              "      <td>18.899839</td>\n",
              "      <td>12.539132</td>\n",
              "      <td>...</td>\n",
              "      <td>9.737114</td>\n",
              "      <td>5.479135</td>\n",
              "      <td>4.257979</td>\n",
              "      <td>0.266807</td>\n",
              "      <td>0.033816</td>\n",
              "      <td>0.016889</td>\n",
              "      <td>0.000382</td>\n",
              "      <td>0.254735</td>\n",
              "      <td>0.167126</td>\n",
              "      <td>0.519669</td>\n",
              "    </tr>\n",
              "    <tr>\n",
              "      <th>4</th>\n",
              "      <td>2017</td>\n",
              "      <td>AL-502</td>\n",
              "      <td>155.0</td>\n",
              "      <td>133.0</td>\n",
              "      <td>22.0</td>\n",
              "      <td>265264</td>\n",
              "      <td>0.751167</td>\n",
              "      <td>1.362010</td>\n",
              "      <td>18.803186</td>\n",
              "      <td>10.374694</td>\n",
              "      <td>...</td>\n",
              "      <td>5.843235</td>\n",
              "      <td>5.013873</td>\n",
              "      <td>0.829362</td>\n",
              "      <td>0.090348</td>\n",
              "      <td>0.042056</td>\n",
              "      <td>0.004901</td>\n",
              "      <td>0.000471</td>\n",
              "      <td>0.236545</td>\n",
              "      <td>0.190708</td>\n",
              "      <td>0.513937</td>\n",
              "    </tr>\n",
              "    <tr>\n",
              "      <th>...</th>\n",
              "      <td>...</td>\n",
              "      <td>...</td>\n",
              "      <td>...</td>\n",
              "      <td>...</td>\n",
              "      <td>...</td>\n",
              "      <td>...</td>\n",
              "      <td>...</td>\n",
              "      <td>...</td>\n",
              "      <td>...</td>\n",
              "      <td>...</td>\n",
              "      <td>...</td>\n",
              "      <td>...</td>\n",
              "      <td>...</td>\n",
              "      <td>...</td>\n",
              "      <td>...</td>\n",
              "      <td>...</td>\n",
              "      <td>...</td>\n",
              "      <td>...</td>\n",
              "      <td>...</td>\n",
              "      <td>...</td>\n",
              "      <td>...</td>\n",
              "    </tr>\n",
              "    <tr>\n",
              "      <th>369</th>\n",
              "      <td>2017</td>\n",
              "      <td>WV-500</td>\n",
              "      <td>118.0</td>\n",
              "      <td>111.0</td>\n",
              "      <td>7.0</td>\n",
              "      <td>142272</td>\n",
              "      <td>8.888932</td>\n",
              "      <td>1.459895</td>\n",
              "      <td>16.585392</td>\n",
              "      <td>8.072322</td>\n",
              "      <td>...</td>\n",
              "      <td>8.293972</td>\n",
              "      <td>7.801957</td>\n",
              "      <td>0.492015</td>\n",
              "      <td>0.020074</td>\n",
              "      <td>0.011239</td>\n",
              "      <td>0.005103</td>\n",
              "      <td>0.000098</td>\n",
              "      <td>0.216459</td>\n",
              "      <td>0.213703</td>\n",
              "      <td>0.511886</td>\n",
              "    </tr>\n",
              "    <tr>\n",
              "      <th>370</th>\n",
              "      <td>2017</td>\n",
              "      <td>WV-501</td>\n",
              "      <td>205.0</td>\n",
              "      <td>173.0</td>\n",
              "      <td>32.0</td>\n",
              "      <td>136349</td>\n",
              "      <td>2.793695</td>\n",
              "      <td>1.595035</td>\n",
              "      <td>17.695057</td>\n",
              "      <td>9.171934</td>\n",
              "      <td>...</td>\n",
              "      <td>15.034947</td>\n",
              "      <td>12.688029</td>\n",
              "      <td>2.346919</td>\n",
              "      <td>0.035123</td>\n",
              "      <td>0.011837</td>\n",
              "      <td>0.009916</td>\n",
              "      <td>0.000132</td>\n",
              "      <td>0.232763</td>\n",
              "      <td>0.185069</td>\n",
              "      <td>0.510895</td>\n",
              "    </tr>\n",
              "    <tr>\n",
              "      <th>371</th>\n",
              "      <td>2017</td>\n",
              "      <td>WV-503</td>\n",
              "      <td>319.0</td>\n",
              "      <td>270.0</td>\n",
              "      <td>49.0</td>\n",
              "      <td>274427</td>\n",
              "      <td>3.041601</td>\n",
              "      <td>1.649177</td>\n",
              "      <td>17.768978</td>\n",
              "      <td>8.460396</td>\n",
              "      <td>...</td>\n",
              "      <td>11.624221</td>\n",
              "      <td>9.838682</td>\n",
              "      <td>1.785539</td>\n",
              "      <td>0.053985</td>\n",
              "      <td>0.010403</td>\n",
              "      <td>0.009529</td>\n",
              "      <td>0.000255</td>\n",
              "      <td>0.230819</td>\n",
              "      <td>0.188192</td>\n",
              "      <td>0.514122</td>\n",
              "    </tr>\n",
              "    <tr>\n",
              "      <th>372</th>\n",
              "      <td>2017</td>\n",
              "      <td>WV-508</td>\n",
              "      <td>667.0</td>\n",
              "      <td>567.0</td>\n",
              "      <td>100.0</td>\n",
              "      <td>1275589</td>\n",
              "      <td>4.995708</td>\n",
              "      <td>1.587101</td>\n",
              "      <td>16.804708</td>\n",
              "      <td>9.594313</td>\n",
              "      <td>...</td>\n",
              "      <td>5.228957</td>\n",
              "      <td>4.445005</td>\n",
              "      <td>0.783952</td>\n",
              "      <td>0.032104</td>\n",
              "      <td>0.017506</td>\n",
              "      <td>0.007858</td>\n",
              "      <td>0.000220</td>\n",
              "      <td>0.229239</td>\n",
              "      <td>0.185788</td>\n",
              "      <td>0.502335</td>\n",
              "    </tr>\n",
              "    <tr>\n",
              "      <th>373</th>\n",
              "      <td>2017</td>\n",
              "      <td>WY-500</td>\n",
              "      <td>873.0</td>\n",
              "      <td>510.0</td>\n",
              "      <td>363.0</td>\n",
              "      <td>584910</td>\n",
              "      <td>7.321831</td>\n",
              "      <td>1.941027</td>\n",
              "      <td>11.694517</td>\n",
              "      <td>11.688841</td>\n",
              "      <td>...</td>\n",
              "      <td>14.925373</td>\n",
              "      <td>8.719290</td>\n",
              "      <td>6.206083</td>\n",
              "      <td>0.011137</td>\n",
              "      <td>0.099427</td>\n",
              "      <td>0.009212</td>\n",
              "      <td>0.000725</td>\n",
              "      <td>0.261642</td>\n",
              "      <td>0.151030</td>\n",
              "      <td>0.489385</td>\n",
              "    </tr>\n",
              "  </tbody>\n",
              "</table>\n",
              "<p>374 rows × 55 columns</p>\n",
              "</div>\n",
              "      <button class=\"colab-df-convert\" onclick=\"convertToInteractive('df-bddd56a7-f59e-4fdc-bb8b-6e5175b9d2da')\"\n",
              "              title=\"Convert this dataframe to an interactive table.\"\n",
              "              style=\"display:none;\">\n",
              "        \n",
              "  <svg xmlns=\"http://www.w3.org/2000/svg\" height=\"24px\"viewBox=\"0 0 24 24\"\n",
              "       width=\"24px\">\n",
              "    <path d=\"M0 0h24v24H0V0z\" fill=\"none\"/>\n",
              "    <path d=\"M18.56 5.44l.94 2.06.94-2.06 2.06-.94-2.06-.94-.94-2.06-.94 2.06-2.06.94zm-11 1L8.5 8.5l.94-2.06 2.06-.94-2.06-.94L8.5 2.5l-.94 2.06-2.06.94zm10 10l.94 2.06.94-2.06 2.06-.94-2.06-.94-.94-2.06-.94 2.06-2.06.94z\"/><path d=\"M17.41 7.96l-1.37-1.37c-.4-.4-.92-.59-1.43-.59-.52 0-1.04.2-1.43.59L10.3 9.45l-7.72 7.72c-.78.78-.78 2.05 0 2.83L4 21.41c.39.39.9.59 1.41.59.51 0 1.02-.2 1.41-.59l7.78-7.78 2.81-2.81c.8-.78.8-2.07 0-2.86zM5.41 20L4 18.59l7.72-7.72 1.47 1.35L5.41 20z\"/>\n",
              "  </svg>\n",
              "      </button>\n",
              "      \n",
              "  <style>\n",
              "    .colab-df-container {\n",
              "      display:flex;\n",
              "      flex-wrap:wrap;\n",
              "      gap: 12px;\n",
              "    }\n",
              "\n",
              "    .colab-df-convert {\n",
              "      background-color: #E8F0FE;\n",
              "      border: none;\n",
              "      border-radius: 50%;\n",
              "      cursor: pointer;\n",
              "      display: none;\n",
              "      fill: #1967D2;\n",
              "      height: 32px;\n",
              "      padding: 0 0 0 0;\n",
              "      width: 32px;\n",
              "    }\n",
              "\n",
              "    .colab-df-convert:hover {\n",
              "      background-color: #E2EBFA;\n",
              "      box-shadow: 0px 1px 2px rgba(60, 64, 67, 0.3), 0px 1px 3px 1px rgba(60, 64, 67, 0.15);\n",
              "      fill: #174EA6;\n",
              "    }\n",
              "\n",
              "    [theme=dark] .colab-df-convert {\n",
              "      background-color: #3B4455;\n",
              "      fill: #D2E3FC;\n",
              "    }\n",
              "\n",
              "    [theme=dark] .colab-df-convert:hover {\n",
              "      background-color: #434B5C;\n",
              "      box-shadow: 0px 1px 3px 1px rgba(0, 0, 0, 0.15);\n",
              "      filter: drop-shadow(0px 1px 2px rgba(0, 0, 0, 0.3));\n",
              "      fill: #FFFFFF;\n",
              "    }\n",
              "  </style>\n",
              "\n",
              "      <script>\n",
              "        const buttonEl =\n",
              "          document.querySelector('#df-bddd56a7-f59e-4fdc-bb8b-6e5175b9d2da button.colab-df-convert');\n",
              "        buttonEl.style.display =\n",
              "          google.colab.kernel.accessAllowed ? 'block' : 'none';\n",
              "\n",
              "        async function convertToInteractive(key) {\n",
              "          const element = document.querySelector('#df-bddd56a7-f59e-4fdc-bb8b-6e5175b9d2da');\n",
              "          const dataTable =\n",
              "            await google.colab.kernel.invokeFunction('convertToInteractive',\n",
              "                                                     [key], {});\n",
              "          if (!dataTable) return;\n",
              "\n",
              "          const docLinkHtml = 'Like what you see? Visit the ' +\n",
              "            '<a target=\"_blank\" href=https://colab.research.google.com/notebooks/data_table.ipynb>data table notebook</a>'\n",
              "            + ' to learn more about interactive tables.';\n",
              "          element.innerHTML = '';\n",
              "          dataTable['output_type'] = 'display_data';\n",
              "          await google.colab.output.renderOutput(dataTable, element);\n",
              "          const docLink = document.createElement('div');\n",
              "          docLink.innerHTML = docLinkHtml;\n",
              "          element.appendChild(docLink);\n",
              "        }\n",
              "      </script>\n",
              "    </div>\n",
              "  </div>\n",
              "  "
            ]
          },
          "metadata": {},
          "execution_count": 205
        }
      ]
    },
    {
      "cell_type": "code",
      "source": [
        "variable_remove = [\"total_sheltered\", \"total_unsheltered\", \"total_black\", \n",
        "                   \"total_latino_hispanic\", \"total_asian\", \"total_pacific_islander\", \n",
        "                   \"total_population_0_19\", \"total_population_65_plus\", \"total_female_population\", \n",
        "                   \"year\", \"rate_unsheltered\", \"rate_sheltered\", 'coc_number']\n",
        "\n",
        "df = df.drop(columns = variable_remove)"
      ],
      "metadata": {
        "id": "Z-H95DdGeuLW"
      },
      "execution_count": 206,
      "outputs": []
    },
    {
      "cell_type": "markdown",
      "source": [
        "## Train test split"
      ],
      "metadata": {
        "id": "TklEWrlhsEiQ"
      }
    },
    {
      "cell_type": "code",
      "source": [
        "x = df[df.columns.difference(['rate_homeless', \"total_population\", \"total_homeless\"])]\n",
        "y = df['rate_homeless']"
      ],
      "metadata": {
        "id": "fZVUewUNQyPc"
      },
      "execution_count": 207,
      "outputs": []
    },
    {
      "cell_type": "code",
      "source": [
        "print(x)"
      ],
      "metadata": {
        "colab": {
          "base_uri": "https://localhost:8080/"
        },
        "id": "HegFfm7rwjCd",
        "outputId": "d073b377-c7d6-4189-e27e-2d39b3e4e5b2"
      },
      "execution_count": 208,
      "outputs": [
        {
          "output_type": "stream",
          "name": "stdout",
          "text": [
            "     HUD_unit_occupancy_rate  average_Jan_temperature  \\\n",
            "0                  99.000000                13.800000   \n",
            "1                  99.000000                13.800000   \n",
            "2                  95.083710                50.995346   \n",
            "3                  87.000801                57.893360   \n",
            "4                  95.178665                48.382103   \n",
            "..                       ...                      ...   \n",
            "369                87.321678                35.109627   \n",
            "370                93.790115                40.581108   \n",
            "371                95.965622                40.225986   \n",
            "372                89.981705                37.575474   \n",
            "373                94.188499                18.187859   \n",
            "\n",
            "     average_summer_temperature  city_or_urban  federal_funding  \\\n",
            "0                     60.799999              1         29.36677   \n",
            "1                     60.799999              0          7.60458   \n",
            "2                     80.874313              0         89.09627   \n",
            "3                     81.939949              1         38.51277   \n",
            "4                     79.429985              0          4.69366   \n",
            "..                          ...            ...              ...   \n",
            "369                   73.512047              0          4.13181   \n",
            "370                   76.372177              0         21.05300   \n",
            "371                   75.255028              0         12.23910   \n",
            "372                   73.176598              0         40.18831   \n",
            "373                   65.419609              0          2.91611   \n",
            "\n",
            "     federal_funding_change  gini_coefficient_2016  high_housing_density  \\\n",
            "0                 -0.593490              42.010002                     0   \n",
            "1                 -1.013110              40.675701                     0   \n",
            "2                  3.708201              47.633533                     0   \n",
            "3                  1.808279              46.713249                     0   \n",
            "4                 -1.119620              45.165546                     0   \n",
            "..                      ...                    ...                   ...   \n",
            "369               -0.245660              45.218510                     0   \n",
            "370                4.781050              48.982166                     0   \n",
            "371               -1.092500              46.112286                     0   \n",
            "372               17.087120              44.832005                     0   \n",
            "373               -0.492040              42.013695                     0   \n",
            "\n",
            "     house_price_index_2009  log_median_rent  ...  share_built_before_1940  \\\n",
            "0                 11.743647         2.438863  ...                 0.366995   \n",
            "1                  9.042710         2.249699  ...                 2.236410   \n",
            "2                 -0.852477         1.862248  ...                 7.191579   \n",
            "3                 -8.507004         1.858394  ...                 3.681716   \n",
            "4                  0.751167         1.362010  ...                 5.150007   \n",
            "..                      ...              ...  ...                      ...   \n",
            "369                8.888932         1.459895  ...                25.126446   \n",
            "370                2.793695         1.595035  ...                17.564009   \n",
            "371                3.041601         1.649177  ...                11.364751   \n",
            "372                4.995708         1.587101  ...                16.086874   \n",
            "373                7.321831         1.941027  ...                11.086377   \n",
            "\n",
            "     share_no_bachelors  share_overcrowded_units_2016  share_renters_2016  \\\n",
            "0             65.634148                      4.117406           39.727921   \n",
            "1             75.560379                      9.294898           33.922234   \n",
            "2             65.983711                      1.235925           31.769621   \n",
            "3             74.543457                      1.712736           32.109203   \n",
            "4             82.332657                      1.539988           27.708206   \n",
            "..                  ...                           ...                 ...   \n",
            "369           77.122894                      1.079158           27.521181   \n",
            "370           76.023590                      1.018983           34.475803   \n",
            "371           75.165283                      1.058778           27.259258   \n",
            "372           79.828537                      1.597005           26.778641   \n",
            "373           73.547821                      2.048417           31.324768   \n",
            "\n",
            "     share_under_18_with_single_parent  share_veteran_status  suburban  \\\n",
            "0                            23.379078             14.535126         0   \n",
            "1                            19.786558             14.142518         0   \n",
            "2                            32.077599              9.149558         1   \n",
            "3                            33.668129             11.647923         0   \n",
            "4                            27.959316              9.135015         0   \n",
            "..                                 ...                   ...       ...   \n",
            "369                          26.413492             11.331009         0   \n",
            "370                          29.276711             10.428111         0   \n",
            "371                          26.634947             10.506406         1   \n",
            "372                          23.425161             11.278491         0   \n",
            "373                          19.368048             11.996357         0   \n",
            "\n",
            "     total_Jan_precipitation  total_annual_precipitation  utility_costs  \n",
            "0                   1.710000                   16.500000       8.500000  \n",
            "1                   1.710000                   16.500000      14.607715  \n",
            "2                   6.669876                   38.593376      19.492331  \n",
            "3                  12.296666                   58.519012      18.899839  \n",
            "4                   5.462999                   44.778618      18.803186  \n",
            "..                       ...                         ...            ...  \n",
            "369                 4.164744                   42.280125      16.585392  \n",
            "370                 4.309402                   43.476166      17.695057  \n",
            "371                 4.353291                   42.982872      17.768978  \n",
            "372                 4.592812                   43.718338      16.804708  \n",
            "373                 1.412191                   16.704624      11.694517  \n",
            "\n",
            "[374 rows x 39 columns]\n"
          ]
        }
      ]
    },
    {
      "cell_type": "code",
      "source": [
        "x.columns"
      ],
      "metadata": {
        "colab": {
          "base_uri": "https://localhost:8080/"
        },
        "id": "HgwuwFlM_tG4",
        "outputId": "1a3a18d1-4817-4a1a-9f8c-025cd9c3f2d9"
      },
      "execution_count": 209,
      "outputs": [
        {
          "output_type": "execute_result",
          "data": {
            "text/plain": [
              "Index(['HUD_unit_occupancy_rate', 'average_Jan_temperature',\n",
              "       'average_summer_temperature', 'city_or_urban', 'federal_funding',\n",
              "       'federal_funding_change', 'gini_coefficient_2016',\n",
              "       'high_housing_density', 'house_price_index_2009', 'log_median_rent',\n",
              "       'medicare_reimbursements_per_enrollee', 'migration_4_year_change',\n",
              "       'net_migration', 'number_eviction', 'percent_asian', 'percent_black',\n",
              "       'percent_female_population', 'percent_latino_hispanic',\n",
              "       'percent_pacific_islander', 'percent_population_0_19',\n",
              "       'percent_population_65_plus', 'percentage_excessive_drinking',\n",
              "       'percentage_owners_cost_burden_2016',\n",
              "       'percentage_renters_severe_cost_burden_2016', 'poverty_rate',\n",
              "       'proportion_one_person_households', 'rate_unemployment',\n",
              "       'rental_vacancy_rate', 'share_HUD_units', 'share_built_before_1940',\n",
              "       'share_no_bachelors', 'share_overcrowded_units_2016',\n",
              "       'share_renters_2016', 'share_under_18_with_single_parent',\n",
              "       'share_veteran_status', 'suburban', 'total_Jan_precipitation',\n",
              "       'total_annual_precipitation', 'utility_costs'],\n",
              "      dtype='object')"
            ]
          },
          "metadata": {},
          "execution_count": 209
        }
      ]
    },
    {
      "cell_type": "code",
      "source": [
        "x_train, x_test, y_train, y_test = train_test_split(x, y, test_size=.2, random_state = 15)"
      ],
      "metadata": {
        "id": "R9ZGGKYTPm5U"
      },
      "execution_count": 210,
      "outputs": []
    },
    {
      "cell_type": "markdown",
      "source": [
        "## Analysis"
      ],
      "metadata": {
        "id": "jXpTCAdVpJUh"
      }
    },
    {
      "cell_type": "code",
      "source": [
        "# Model preprocessing\n",
        "from sklearn import preprocessing\n",
        "from sklearn.preprocessing import PolynomialFeatures, StandardScaler\n",
        "from sklearn.preprocessing import RobustScaler\n",
        "\n",
        "# Train-test splits and cross validation\n",
        "from sklearn.model_selection import train_test_split, cross_val_score, GridSearchCV, KFold, RandomizedSearchCV\n",
        "\n",
        "# Models\n",
        "from sklearn.linear_model import LinearRegression, RidgeCV, LassoCV, Ridge, Lasso\n",
        "\n",
        "# Model metrics\n",
        "from sklearn.metrics import r2_score, mean_squared_error, mean_absolute_error\n"
      ],
      "metadata": {
        "id": "O8ohVlnw0uDJ"
      },
      "execution_count": 211,
      "outputs": []
    },
    {
      "cell_type": "markdown",
      "source": [
        "What columns are predictors in the model?\n",
        "\n",
        "How well does a multiple linear regression model fit the full data set?\n",
        "\n",
        "What predictors are important?\n",
        "\n",
        "Do we need to transform anything nonlinearly?"
      ],
      "metadata": {
        "id": "eA-5w-cApcD_"
      }
    },
    {
      "cell_type": "code",
      "source": [
        "df.columns"
      ],
      "metadata": {
        "colab": {
          "base_uri": "https://localhost:8080/"
        },
        "id": "j_K2uy7JrSMc",
        "outputId": "6a1283a5-29a5-46f2-a470-4fd8d7ba391e"
      },
      "execution_count": 212,
      "outputs": [
        {
          "output_type": "execute_result",
          "data": {
            "text/plain": [
              "Index(['total_homeless', 'total_population', 'house_price_index_2009',\n",
              "       'log_median_rent', 'utility_costs',\n",
              "       'percentage_owners_cost_burden_2016',\n",
              "       'percentage_renters_severe_cost_burden_2016', 'share_renters_2016',\n",
              "       'rental_vacancy_rate', 'high_housing_density', 'number_eviction',\n",
              "       'share_overcrowded_units_2016', 'city_or_urban', 'suburban',\n",
              "       'rate_unemployment', 'gini_coefficient_2016', 'poverty_rate',\n",
              "       'share_HUD_units', 'HUD_unit_occupancy_rate', 'share_built_before_1940',\n",
              "       'net_migration', 'migration_4_year_change',\n",
              "       'proportion_one_person_households', 'share_under_18_with_single_parent',\n",
              "       'share_veteran_status', 'share_no_bachelors',\n",
              "       'medicare_reimbursements_per_enrollee', 'percentage_excessive_drinking',\n",
              "       'average_Jan_temperature', 'average_summer_temperature',\n",
              "       'total_Jan_precipitation', 'total_annual_precipitation',\n",
              "       'federal_funding', 'federal_funding_change', 'rate_homeless',\n",
              "       'percent_black', 'percent_latino_hispanic', 'percent_asian',\n",
              "       'percent_pacific_islander', 'percent_population_0_19',\n",
              "       'percent_population_65_plus', 'percent_female_population'],\n",
              "      dtype='object')"
            ]
          },
          "metadata": {},
          "execution_count": 212
        }
      ]
    },
    {
      "cell_type": "markdown",
      "metadata": {
        "id": "ixvPxomMGL-8"
      },
      "source": [
        "##### $\\rightarrow$ Center the variables using the median and scale with the inter-quartile range."
      ]
    },
    {
      "cell_type": "markdown",
      "metadata": {
        "id": "leMb9GB7GL-9"
      },
      "source": [
        "Define the scaler using only the training data. For the validation set approach to work, we can not incorporate any knowledge of the validation set's properties into the model building process."
      ]
    },
    {
      "cell_type": "code",
      "source": [
        "scaler = RobustScaler().fit(x_train)"
      ],
      "metadata": {
        "id": "GD0LGx32GL-9"
      },
      "execution_count": 213,
      "outputs": []
    },
    {
      "cell_type": "markdown",
      "metadata": {
        "id": "jpF-DBcRGL-9"
      },
      "source": [
        "##### $\\rightarrow$ Perform the scaling transform on the predictors"
      ]
    },
    {
      "cell_type": "code",
      "metadata": {
        "id": "yjvbvrodGL-9"
      },
      "source": [
        "x_train = scaler.transform(x_train)\n",
        "x_test = scaler.transform(x_test)"
      ],
      "execution_count": 214,
      "outputs": []
    },
    {
      "cell_type": "markdown",
      "metadata": {
        "id": "k2eESfUsGL-9"
      },
      "source": [
        "##### $\\rightarrow$ Fit a multiple linear regression model using all of the predictors and view the statistical significance of the coefficients. How many are statistically significant?"
      ]
    },
    {
      "cell_type": "markdown",
      "source": [
        "### Fit the model"
      ],
      "metadata": {
        "id": "zDY1PIysGL--"
      }
    },
    {
      "cell_type": "markdown",
      "source": [
        "### Ridge regression"
      ],
      "metadata": {
        "id": "BmVISNEIUy2L"
      }
    },
    {
      "cell_type": "code",
      "source": [
        "# array of all possible alphas\n",
        "alphas = 10**np.linspace(-3,5,20)"
      ],
      "metadata": {
        "id": "N44ZWWmbU2rE"
      },
      "execution_count": 215,
      "outputs": []
    },
    {
      "cell_type": "markdown",
      "source": [
        "To understand how $\\alpha$ changes the fit, note that when $\\alpha$ increases, all coefficients are scaled to be smaller."
      ],
      "metadata": {
        "id": "_syk7M4iU-o_"
      }
    },
    {
      "cell_type": "code",
      "source": [
        "ridge = Ridge(max_iter = 100000)\n",
        "coefs = []\n",
        "\n",
        "for a in alphas:\n",
        "    ridge.set_params(alpha=a)\n",
        "    ridge.fit(x_train, y_train)\n",
        "    coefs.append(ridge.coef_)\n",
        "    \n",
        "ax = plt.gca()\n",
        "ax.plot(alphas, coefs)\n",
        "ax.set_xscale('log')\n",
        "plt.axis('tight')\n",
        "plt.xlabel('alpha', fontsize = 14)\n",
        "plt.ylabel('coefficients', fontsize = 14);"
      ],
      "metadata": {
        "colab": {
          "base_uri": "https://localhost:8080/",
          "height": 459
        },
        "id": "LZ0vEx1FVPll",
        "outputId": "d89e5cd8-038e-4bd4-9e4c-e3ea45acdbca"
      },
      "execution_count": 216,
      "outputs": [
        {
          "output_type": "display_data",
          "data": {
            "text/plain": [
              "<Figure size 640x480 with 1 Axes>"
            ],
            "image/png": "[encoded data removed]"
          },
          "metadata": {}
        }
      ]
    },
    {
      "cell_type": "markdown",
      "source": [
        "##### $\\rightarrow$ Use cross-validation to find the best alpha for Ridge regression.\n",
        "Do 5-fold cross validation "
      ],
      "metadata": {
        "id": "7Msq2HQOXlTV"
      }
    },
    {
      "cell_type": "code",
      "source": [
        "ridgecv = RidgeCV(alphas = alphas, cv = 5, scoring = 'neg_mean_squared_error')\n",
        "\n",
        "ridgecv.fit(x_train, y_train);"
      ],
      "metadata": {
        "id": "lKQhdH01XkpH"
      },
      "execution_count": 217,
      "outputs": []
    },
    {
      "cell_type": "code",
      "source": [
        "#best alpha\n",
        "ridgecv.alpha_"
      ],
      "metadata": {
        "colab": {
          "base_uri": "https://localhost:8080/"
        },
        "id": "PoMMT8wCXwnM",
        "outputId": "71ded9d1-85f7-484b-bbf7-9f1c242319fa"
      },
      "execution_count": 218,
      "outputs": [
        {
          "output_type": "execute_result",
          "data": {
            "text/plain": [
              "42.81332398719396"
            ]
          },
          "metadata": {},
          "execution_count": 218
        }
      ]
    },
    {
      "cell_type": "markdown",
      "source": [
        "##### $\\rightarrow$ Fit the ridge regression model on the training data with the best $\\alpha$ and examine the coefficients."
      ],
      "metadata": {
        "id": "IEx5YnqkX4PA"
      }
    },
    {
      "cell_type": "code",
      "source": [
        "ridge_reg = Ridge(alpha = ridgecv.alpha_).fit(x_train, y_train)"
      ],
      "metadata": {
        "id": "xKj-mgiGX588"
      },
      "execution_count": 219,
      "outputs": []
    },
    {
      "cell_type": "code",
      "source": [
        "coefficients = ridge_reg.coef_.round(3)\n",
        "coefficients = np.insert(coefficients, 0, ridge_reg.intercept_.round(3))\n",
        "\n",
        "variables = x.columns\n",
        "variables = np.insert(variables, 0, 'intercept')\n",
        "\n",
        "pd.DataFrame(data = coefficients, index = variables, columns = ['Estimated Coefficient'])"
      ],
      "metadata": {
        "colab": {
          "base_uri": "https://localhost:8080/",
          "height": 1000
        },
        "id": "VCMOsuJjX-yD",
        "outputId": "44d20f51-ff0d-4582-9fa8-663a687ddc73"
      },
      "execution_count": 220,
      "outputs": [
        {
          "output_type": "execute_result",
          "data": {
            "text/plain": [
              "                                            Estimated Coefficient\n",
              "intercept                                                  12.771\n",
              "HUD_unit_occupancy_rate                                    -0.752\n",
              "average_Jan_temperature                                     0.668\n",
              "average_summer_temperature                                 -0.580\n",
              "city_or_urban                                              -0.083\n",
              "federal_funding                                             1.290\n",
              "federal_funding_change                                     -0.699\n",
              "gini_coefficient_2016                                       0.306\n",
              "high_housing_density                                       -0.344\n",
              "house_price_index_2009                                      1.420\n",
              "log_median_rent                                             3.317\n",
              "medicare_reimbursements_per_enrollee                       -0.386\n",
              "migration_4_year_change                                     2.252\n",
              "net_migration                                              -0.182\n",
              "number_eviction                                            -0.515\n",
              "percent_asian                                              -1.623\n",
              "percent_black                                              -0.823\n",
              "percent_female_population                                  -1.220\n",
              "percent_latino_hispanic                                     0.630\n",
              "percent_pacific_islander                                    0.327\n",
              "percent_population_0_19                                    -1.788\n",
              "percent_population_65_plus                                  0.310\n",
              "percentage_excessive_drinking                               1.850\n",
              "percentage_owners_cost_burden_2016                          0.519\n",
              "percentage_renters_severe_cost_burden_2016                  0.737\n",
              "poverty_rate                                               -0.316\n",
              "proportion_one_person_households                            3.696\n",
              "rate_unemployment                                          -1.220\n",
              "rental_vacancy_rate                                         0.033\n",
              "share_HUD_units                                             2.276\n",
              "share_built_before_1940                                     0.180\n",
              "share_no_bachelors                                         -0.206\n",
              "share_overcrowded_units_2016                                2.037\n",
              "share_renters_2016                                          1.953\n",
              "share_under_18_with_single_parent                           0.954\n",
              "share_veteran_status                                        0.817\n",
              "suburban                                                   -1.292\n",
              "total_Jan_precipitation                                     3.053\n",
              "total_annual_precipitation                                  0.025\n",
              "utility_costs                                              -0.788"
            ],
            "text/html": [
              "\n",
              "  <div id=\"df-45602479-de7f-4f3c-83a8-2367ab589bea\">\n",
              "    <div class=\"colab-df-container\">\n",
              "      <div>\n",
              "<style scoped>\n",
              "    .dataframe tbody tr th:only-of-type {\n",
              "        vertical-align: middle;\n",
              "    }\n",
              "\n",
              "    .dataframe tbody tr th {\n",
              "        vertical-align: top;\n",
              "    }\n",
              "\n",
              "    .dataframe thead th {\n",
              "        text-align: right;\n",
              "    }\n",
              "</style>\n",
              "<table border=\"1\" class=\"dataframe\">\n",
              "  <thead>\n",
              "    <tr style=\"text-align: right;\">\n",
              "      <th></th>\n",
              "      <th>Estimated Coefficient</th>\n",
              "    </tr>\n",
              "  </thead>\n",
              "  <tbody>\n",
              "    <tr>\n",
              "      <th>intercept</th>\n",
              "      <td>12.771</td>\n",
              "    </tr>\n",
              "    <tr>\n",
              "      <th>HUD_unit_occupancy_rate</th>\n",
              "      <td>-0.752</td>\n",
              "    </tr>\n",
              "    <tr>\n",
              "      <th>average_Jan_temperature</th>\n",
              "      <td>0.668</td>\n",
              "    </tr>\n",
              "    <tr>\n",
              "      <th>average_summer_temperature</th>\n",
              "      <td>-0.580</td>\n",
              "    </tr>\n",
              "    <tr>\n",
              "      <th>city_or_urban</th>\n",
              "      <td>-0.083</td>\n",
              "    </tr>\n",
              "    <tr>\n",
              "      <th>federal_funding</th>\n",
              "      <td>1.290</td>\n",
              "    </tr>\n",
              "    <tr>\n",
              "      <th>federal_funding_change</th>\n",
              "      <td>-0.699</td>\n",
              "    </tr>\n",
              "    <tr>\n",
              "      <th>gini_coefficient_2016</th>\n",
              "      <td>0.306</td>\n",
              "    </tr>\n",
              "    <tr>\n",
              "      <th>high_housing_density</th>\n",
              "      <td>-0.344</td>\n",
              "    </tr>\n",
              "    <tr>\n",
              "      <th>house_price_index_2009</th>\n",
              "      <td>1.420</td>\n",
              "    </tr>\n",
              "    <tr>\n",
              "      <th>log_median_rent</th>\n",
              "      <td>3.317</td>\n",
              "    </tr>\n",
              "    <tr>\n",
              "      <th>medicare_reimbursements_per_enrollee</th>\n",
              "      <td>-0.386</td>\n",
              "    </tr>\n",
              "    <tr>\n",
              "      <th>migration_4_year_change</th>\n",
              "      <td>2.252</td>\n",
              "    </tr>\n",
              "    <tr>\n",
              "      <th>net_migration</th>\n",
              "      <td>-0.182</td>\n",
              "    </tr>\n",
              "    <tr>\n",
              "      <th>number_eviction</th>\n",
              "      <td>-0.515</td>\n",
              "    </tr>\n",
              "    <tr>\n",
              "      <th>percent_asian</th>\n",
              "      <td>-1.623</td>\n",
              "    </tr>\n",
              "    <tr>\n",
              "      <th>percent_black</th>\n",
              "      <td>-0.823</td>\n",
              "    </tr>\n",
              "    <tr>\n",
              "      <th>percent_female_population</th>\n",
              "      <td>-1.220</td>\n",
              "    </tr>\n",
              "    <tr>\n",
              "      <th>percent_latino_hispanic</th>\n",
              "      <td>0.630</td>\n",
              "    </tr>\n",
              "    <tr>\n",
              "      <th>percent_pacific_islander</th>\n",
              "      <td>0.327</td>\n",
              "    </tr>\n",
              "    <tr>\n",
              "      <th>percent_population_0_19</th>\n",
              "      <td>-1.788</td>\n",
              "    </tr>\n",
              "    <tr>\n",
              "      <th>percent_population_65_plus</th>\n",
              "      <td>0.310</td>\n",
              "    </tr>\n",
              "    <tr>\n",
              "      <th>percentage_excessive_drinking</th>\n",
              "      <td>1.850</td>\n",
              "    </tr>\n",
              "    <tr>\n",
              "      <th>percentage_owners_cost_burden_2016</th>\n",
              "      <td>0.519</td>\n",
              "    </tr>\n",
              "    <tr>\n",
              "      <th>percentage_renters_severe_cost_burden_2016</th>\n",
              "      <td>0.737</td>\n",
              "    </tr>\n",
              "    <tr>\n",
              "      <th>poverty_rate</th>\n",
              "      <td>-0.316</td>\n",
              "    </tr>\n",
              "    <tr>\n",
              "      <th>proportion_one_person_households</th>\n",
              "      <td>3.696</td>\n",
              "    </tr>\n",
              "    <tr>\n",
              "      <th>rate_unemployment</th>\n",
              "      <td>-1.220</td>\n",
              "    </tr>\n",
              "    <tr>\n",
              "      <th>rental_vacancy_rate</th>\n",
              "      <td>0.033</td>\n",
              "    </tr>\n",
              "    <tr>\n",
              "      <th>share_HUD_units</th>\n",
              "      <td>2.276</td>\n",
              "    </tr>\n",
              "    <tr>\n",
              "      <th>share_built_before_1940</th>\n",
              "      <td>0.180</td>\n",
              "    </tr>\n",
              "    <tr>\n",
              "      <th>share_no_bachelors</th>\n",
              "      <td>-0.206</td>\n",
              "    </tr>\n",
              "    <tr>\n",
              "      <th>share_overcrowded_units_2016</th>\n",
              "      <td>2.037</td>\n",
              "    </tr>\n",
              "    <tr>\n",
              "      <th>share_renters_2016</th>\n",
              "      <td>1.953</td>\n",
              "    </tr>\n",
              "    <tr>\n",
              "      <th>share_under_18_with_single_parent</th>\n",
              "      <td>0.954</td>\n",
              "    </tr>\n",
              "    <tr>\n",
              "      <th>share_veteran_status</th>\n",
              "      <td>0.817</td>\n",
              "    </tr>\n",
              "    <tr>\n",
              "      <th>suburban</th>\n",
              "      <td>-1.292</td>\n",
              "    </tr>\n",
              "    <tr>\n",
              "      <th>total_Jan_precipitation</th>\n",
              "      <td>3.053</td>\n",
              "    </tr>\n",
              "    <tr>\n",
              "      <th>total_annual_precipitation</th>\n",
              "      <td>0.025</td>\n",
              "    </tr>\n",
              "    <tr>\n",
              "      <th>utility_costs</th>\n",
              "      <td>-0.788</td>\n",
              "    </tr>\n",
              "  </tbody>\n",
              "</table>\n",
              "</div>\n",
              "      <button class=\"colab-df-convert\" onclick=\"convertToInteractive('df-45602479-de7f-4f3c-83a8-2367ab589bea')\"\n",
              "              title=\"Convert this dataframe to an interactive table.\"\n",
              "              style=\"display:none;\">\n",
              "        \n",
              "  <svg xmlns=\"http://www.w3.org/2000/svg\" height=\"24px\"viewBox=\"0 0 24 24\"\n",
              "       width=\"24px\">\n",
              "    <path d=\"M0 0h24v24H0V0z\" fill=\"none\"/>\n",
              "    <path d=\"M18.56 5.44l.94 2.06.94-2.06 2.06-.94-2.06-.94-.94-2.06-.94 2.06-2.06.94zm-11 1L8.5 8.5l.94-2.06 2.06-.94-2.06-.94L8.5 2.5l-.94 2.06-2.06.94zm10 10l.94 2.06.94-2.06 2.06-.94-2.06-.94-.94-2.06-.94 2.06-2.06.94z\"/><path d=\"M17.41 7.96l-1.37-1.37c-.4-.4-.92-.59-1.43-.59-.52 0-1.04.2-1.43.59L10.3 9.45l-7.72 7.72c-.78.78-.78 2.05 0 2.83L4 21.41c.39.39.9.59 1.41.59.51 0 1.02-.2 1.41-.59l7.78-7.78 2.81-2.81c.8-.78.8-2.07 0-2.86zM5.41 20L4 18.59l7.72-7.72 1.47 1.35L5.41 20z\"/>\n",
              "  </svg>\n",
              "      </button>\n",
              "      \n",
              "  <style>\n",
              "    .colab-df-container {\n",
              "      display:flex;\n",
              "      flex-wrap:wrap;\n",
              "      gap: 12px;\n",
              "    }\n",
              "\n",
              "    .colab-df-convert {\n",
              "      background-color: #E8F0FE;\n",
              "      border: none;\n",
              "      border-radius: 50%;\n",
              "      cursor: pointer;\n",
              "      display: none;\n",
              "      fill: #1967D2;\n",
              "      height: 32px;\n",
              "      padding: 0 0 0 0;\n",
              "      width: 32px;\n",
              "    }\n",
              "\n",
              "    .colab-df-convert:hover {\n",
              "      background-color: #E2EBFA;\n",
              "      box-shadow: 0px 1px 2px rgba(60, 64, 67, 0.3), 0px 1px 3px 1px rgba(60, 64, 67, 0.15);\n",
              "      fill: #174EA6;\n",
              "    }\n",
              "\n",
              "    [theme=dark] .colab-df-convert {\n",
              "      background-color: #3B4455;\n",
              "      fill: #D2E3FC;\n",
              "    }\n",
              "\n",
              "    [theme=dark] .colab-df-convert:hover {\n",
              "      background-color: #434B5C;\n",
              "      box-shadow: 0px 1px 3px 1px rgba(0, 0, 0, 0.15);\n",
              "      filter: drop-shadow(0px 1px 2px rgba(0, 0, 0, 0.3));\n",
              "      fill: #FFFFFF;\n",
              "    }\n",
              "  </style>\n",
              "\n",
              "      <script>\n",
              "        const buttonEl =\n",
              "          document.querySelector('#df-45602479-de7f-4f3c-83a8-2367ab589bea button.colab-df-convert');\n",
              "        buttonEl.style.display =\n",
              "          google.colab.kernel.accessAllowed ? 'block' : 'none';\n",
              "\n",
              "        async function convertToInteractive(key) {\n",
              "          const element = document.querySelector('#df-45602479-de7f-4f3c-83a8-2367ab589bea');\n",
              "          const dataTable =\n",
              "            await google.colab.kernel.invokeFunction('convertToInteractive',\n",
              "                                                     [key], {});\n",
              "          if (!dataTable) return;\n",
              "\n",
              "          const docLinkHtml = 'Like what you see? Visit the ' +\n",
              "            '<a target=\"_blank\" href=https://colab.research.google.com/notebooks/data_table.ipynb>data table notebook</a>'\n",
              "            + ' to learn more about interactive tables.';\n",
              "          element.innerHTML = '';\n",
              "          dataTable['output_type'] = 'display_data';\n",
              "          await google.colab.output.renderOutput(dataTable, element);\n",
              "          const docLink = document.createElement('div');\n",
              "          docLink.innerHTML = docLinkHtml;\n",
              "          element.appendChild(docLink);\n",
              "        }\n",
              "      </script>\n",
              "    </div>\n",
              "  </div>\n",
              "  "
            ]
          },
          "metadata": {},
          "execution_count": 220
        }
      ]
    },
    {
      "cell_type": "markdown",
      "source": [
        "##### $\\rightarrow$ Use the ridge regression model to predict the test data. Compute the MSE, RMSE, and $R^2$."
      ],
      "metadata": {
        "id": "iuHPWCSrYI0B"
      }
    },
    {
      "cell_type": "code",
      "source": [
        "MSE_ridge = mean_squared_error(y_test, ridge_reg.predict(x_test))\n",
        "RMSE_ridge = np.sqrt(MSE_ridge)\n",
        "R_squared_ridge = r2_score(y_test, ridge_reg.predict(x_test))\n",
        "\n",
        "print('MSE =', MSE_ridge.round(3), ' RMSE =', RMSE_ridge.round(3), ' R-squared =', R_squared_ridge.round(3))"
      ],
      "metadata": {
        "colab": {
          "base_uri": "https://localhost:8080/"
        },
        "id": "kSHVs2YRYM3X",
        "outputId": "86de07f7-b51d-4342-de3d-9e9688449402"
      },
      "execution_count": 221,
      "outputs": [
        {
          "output_type": "stream",
          "name": "stdout",
          "text": [
            "MSE = 142.204  RMSE = 11.925  R-squared = 0.197\n"
          ]
        }
      ]
    },
    {
      "cell_type": "markdown",
      "source": [
        "### Lasso"
      ],
      "metadata": {
        "id": "z2_xmTcUYmS-"
      }
    },
    {
      "cell_type": "code",
      "source": [
        "alphas = 10**np.linspace(-4,3,10)"
      ],
      "metadata": {
        "id": "c0P-t3GwYtFb"
      },
      "execution_count": 222,
      "outputs": []
    },
    {
      "cell_type": "code",
      "source": [
        "lasso = Lasso(max_iter = 100000)\n",
        "coefs = []\n",
        "\n",
        "for a in alphas:\n",
        "    lasso.set_params(alpha=a)\n",
        "    lasso.fit(x_train, y_train)\n",
        "    coefs.append(lasso.coef_)\n",
        "    \n",
        "ax = plt.gca()\n",
        "ax.plot(alphas, coefs)\n",
        "ax.set_xscale('log')\n",
        "plt.axis('tight')\n",
        "plt.xlabel('alpha', fontsize = 14)\n",
        "plt.ylabel('coefficients', fontsize = 14);"
      ],
      "metadata": {
        "colab": {
          "base_uri": "https://localhost:8080/",
          "height": 459
        },
        "id": "rdNECtLHYwC9",
        "outputId": "e0f6f8bb-0ccb-48be-f7d0-28439828eb8c"
      },
      "execution_count": 223,
      "outputs": [
        {
          "output_type": "display_data",
          "data": {
            "text/plain": [
              "<Figure size 640x480 with 1 Axes>"
            ],
            "image/png": "[encoded data removed]"
          },
          "metadata": {}
        }
      ]
    },
    {
      "cell_type": "markdown",
      "source": [
        "##### $\\rightarrow$ Do 5-fold cross validation to find $\\alpha$"
      ],
      "metadata": {
        "id": "3PszRNEMZlYo"
      }
    },
    {
      "cell_type": "code",
      "source": [
        "lassocv = LassoCV(alphas = None, cv = 5, max_iter = 100_000)"
      ],
      "metadata": {
        "id": "mD3LAVgQZmsE"
      },
      "execution_count": 224,
      "outputs": []
    },
    {
      "cell_type": "code",
      "source": [
        "lassocv.fit(x_train, y_train)\n",
        "lassocv.alpha_"
      ],
      "metadata": {
        "colab": {
          "base_uri": "https://localhost:8080/"
        },
        "id": "iYyGkOaJZpM0",
        "outputId": "69c281aa-c714-4dfc-b3c1-c1d8f2b8c8b2"
      },
      "execution_count": 225,
      "outputs": [
        {
          "output_type": "execute_result",
          "data": {
            "text/plain": [
              "0.3686229191861149"
            ]
          },
          "metadata": {},
          "execution_count": 225
        }
      ]
    },
    {
      "cell_type": "code",
      "source": [
        "plt.semilogx(lassocv.alphas_, lassocv.mse_path_, \":\")\n",
        "plt.plot(\n",
        "    lassocv.alphas_ ,\n",
        "    lassocv.mse_path_.mean(axis=-1),\n",
        "    \"k\",\n",
        "    label=\"Average across the folds\",\n",
        "    linewidth=2,\n",
        ")\n",
        "plt.axvline(\n",
        "    lassocv.alpha_, linestyle=\"--\", color=\"k\", label=\"alpha: CV estimate\"\n",
        ")\n",
        "\n",
        "plt.legend()\n",
        "plt.xlabel(\"alphas\")\n",
        "plt.ylabel(\"Mean square error\")\n",
        "plt.title(\"Mean square error on each fold\")\n",
        "plt.axis(\"tight\");"
      ],
      "metadata": {
        "colab": {
          "base_uri": "https://localhost:8080/",
          "height": 476
        },
        "id": "Okggb4N8Ztuw",
        "outputId": "63f0e0c1-c5a4-4e47-9cb4-e402f79fe3e5"
      },
      "execution_count": 226,
      "outputs": [
        {
          "output_type": "display_data",
          "data": {
            "text/plain": [
              "<Figure size 640x480 with 1 Axes>"
            ],
            "image/png": "[encoded data removed]"
          },
          "metadata": {}
        }
      ]
    },
    {
      "cell_type": "markdown",
      "source": [
        "##### $\\rightarrow$ Fit the Lasso model on the training data with the best $\\alpha$ and examine the coefficients."
      ],
      "metadata": {
        "id": "KiLk8rm5aKea"
      }
    },
    {
      "cell_type": "code",
      "source": [
        "lasso_reg = Lasso(alpha = lassocv.alpha_).fit(x_train, y_train)"
      ],
      "metadata": {
        "id": "VaFBT7KfaUc_"
      },
      "execution_count": 227,
      "outputs": []
    },
    {
      "cell_type": "code",
      "source": [
        "coefficients = lasso_reg.coef_.round(3)\n",
        "coefficients = np.insert(coefficients, 0, lasso_reg.intercept_.round(4))\n",
        "\n",
        "variables = x.columns\n",
        "variables = np.insert(variables, 0, 'intercept')\n",
        "\n",
        "pd.DataFrame(data = coefficients.round(2), index = variables, columns = ['Estimated Coefficient'])"
      ],
      "metadata": {
        "colab": {
          "base_uri": "https://localhost:8080/",
          "height": 1000
        },
        "id": "87--fyXwaXwa",
        "outputId": "c729b8ce-4f74-4cb5-a9e8-47407bf2f845"
      },
      "execution_count": 228,
      "outputs": [
        {
          "output_type": "execute_result",
          "data": {
            "text/plain": [
              "                                            Estimated Coefficient\n",
              "intercept                                                   12.48\n",
              "HUD_unit_occupancy_rate                                     -0.19\n",
              "average_Jan_temperature                                      0.00\n",
              "average_summer_temperature                                  -0.00\n",
              "city_or_urban                                                0.00\n",
              "federal_funding                                              1.17\n",
              "federal_funding_change                                      -0.64\n",
              "gini_coefficient_2016                                        0.00\n",
              "high_housing_density                                        -0.00\n",
              "house_price_index_2009                                       0.80\n",
              "log_median_rent                                              4.93\n",
              "medicare_reimbursements_per_enrollee                        -0.00\n",
              "migration_4_year_change                                      2.48\n",
              "net_migration                                               -0.01\n",
              "number_eviction                                             -0.47\n",
              "percent_asian                                               -1.60\n",
              "percent_black                                               -0.73\n",
              "percent_female_population                                   -1.12\n",
              "percent_latino_hispanic                                      0.04\n",
              "percent_pacific_islander                                     0.36\n",
              "percent_population_0_19                                     -1.26\n",
              "percent_population_65_plus                                   0.00\n",
              "percentage_excessive_drinking                                1.65\n",
              "percentage_owners_cost_burden_2016                           0.00\n",
              "percentage_renters_severe_cost_burden_2016                   0.02\n",
              "poverty_rate                                                 0.00\n",
              "proportion_one_person_households                             6.44\n",
              "rate_unemployment                                           -0.47\n",
              "rental_vacancy_rate                                         -0.00\n",
              "share_HUD_units                                              2.21\n",
              "share_built_before_1940                                      0.00\n",
              "share_no_bachelors                                           0.00\n",
              "share_overcrowded_units_2016                                 2.82\n",
              "share_renters_2016                                           0.79\n",
              "share_under_18_with_single_parent                            0.00\n",
              "share_veteran_status                                         0.11\n",
              "suburban                                                    -0.35\n",
              "total_Jan_precipitation                                      3.30\n",
              "total_annual_precipitation                                  -0.00\n",
              "utility_costs                                               -0.00"
            ],
            "text/html": [
              "\n",
              "  <div id=\"df-a56df521-74a5-4d06-a223-4d1cd633b2e2\">\n",
              "    <div class=\"colab-df-container\">\n",
              "      <div>\n",
              "<style scoped>\n",
              "    .dataframe tbody tr th:only-of-type {\n",
              "        vertical-align: middle;\n",
              "    }\n",
              "\n",
              "    .dataframe tbody tr th {\n",
              "        vertical-align: top;\n",
              "    }\n",
              "\n",
              "    .dataframe thead th {\n",
              "        text-align: right;\n",
              "    }\n",
              "</style>\n",
              "<table border=\"1\" class=\"dataframe\">\n",
              "  <thead>\n",
              "    <tr style=\"text-align: right;\">\n",
              "      <th></th>\n",
              "      <th>Estimated Coefficient</th>\n",
              "    </tr>\n",
              "  </thead>\n",
              "  <tbody>\n",
              "    <tr>\n",
              "      <th>intercept</th>\n",
              "      <td>12.48</td>\n",
              "    </tr>\n",
              "    <tr>\n",
              "      <th>HUD_unit_occupancy_rate</th>\n",
              "      <td>-0.19</td>\n",
              "    </tr>\n",
              "    <tr>\n",
              "      <th>average_Jan_temperature</th>\n",
              "      <td>0.00</td>\n",
              "    </tr>\n",
              "    <tr>\n",
              "      <th>average_summer_temperature</th>\n",
              "      <td>-0.00</td>\n",
              "    </tr>\n",
              "    <tr>\n",
              "      <th>city_or_urban</th>\n",
              "      <td>0.00</td>\n",
              "    </tr>\n",
              "    <tr>\n",
              "      <th>federal_funding</th>\n",
              "      <td>1.17</td>\n",
              "    </tr>\n",
              "    <tr>\n",
              "      <th>federal_funding_change</th>\n",
              "      <td>-0.64</td>\n",
              "    </tr>\n",
              "    <tr>\n",
              "      <th>gini_coefficient_2016</th>\n",
              "      <td>0.00</td>\n",
              "    </tr>\n",
              "    <tr>\n",
              "      <th>high_housing_density</th>\n",
              "      <td>-0.00</td>\n",
              "    </tr>\n",
              "    <tr>\n",
              "      <th>house_price_index_2009</th>\n",
              "      <td>0.80</td>\n",
              "    </tr>\n",
              "    <tr>\n",
              "      <th>log_median_rent</th>\n",
              "      <td>4.93</td>\n",
              "    </tr>\n",
              "    <tr>\n",
              "      <th>medicare_reimbursements_per_enrollee</th>\n",
              "      <td>-0.00</td>\n",
              "    </tr>\n",
              "    <tr>\n",
              "      <th>migration_4_year_change</th>\n",
              "      <td>2.48</td>\n",
              "    </tr>\n",
              "    <tr>\n",
              "      <th>net_migration</th>\n",
              "      <td>-0.01</td>\n",
              "    </tr>\n",
              "    <tr>\n",
              "      <th>number_eviction</th>\n",
              "      <td>-0.47</td>\n",
              "    </tr>\n",
              "    <tr>\n",
              "      <th>percent_asian</th>\n",
              "      <td>-1.60</td>\n",
              "    </tr>\n",
              "    <tr>\n",
              "      <th>percent_black</th>\n",
              "      <td>-0.73</td>\n",
              "    </tr>\n",
              "    <tr>\n",
              "      <th>percent_female_population</th>\n",
              "      <td>-1.12</td>\n",
              "    </tr>\n",
              "    <tr>\n",
              "      <th>percent_latino_hispanic</th>\n",
              "      <td>0.04</td>\n",
              "    </tr>\n",
              "    <tr>\n",
              "      <th>percent_pacific_islander</th>\n",
              "      <td>0.36</td>\n",
              "    </tr>\n",
              "    <tr>\n",
              "      <th>percent_population_0_19</th>\n",
              "      <td>-1.26</td>\n",
              "    </tr>\n",
              "    <tr>\n",
              "      <th>percent_population_65_plus</th>\n",
              "      <td>0.00</td>\n",
              "    </tr>\n",
              "    <tr>\n",
              "      <th>percentage_excessive_drinking</th>\n",
              "      <td>1.65</td>\n",
              "    </tr>\n",
              "    <tr>\n",
              "      <th>percentage_owners_cost_burden_2016</th>\n",
              "      <td>0.00</td>\n",
              "    </tr>\n",
              "    <tr>\n",
              "      <th>percentage_renters_severe_cost_burden_2016</th>\n",
              "      <td>0.02</td>\n",
              "    </tr>\n",
              "    <tr>\n",
              "      <th>poverty_rate</th>\n",
              "      <td>0.00</td>\n",
              "    </tr>\n",
              "    <tr>\n",
              "      <th>proportion_one_person_households</th>\n",
              "      <td>6.44</td>\n",
              "    </tr>\n",
              "    <tr>\n",
              "      <th>rate_unemployment</th>\n",
              "      <td>-0.47</td>\n",
              "    </tr>\n",
              "    <tr>\n",
              "      <th>rental_vacancy_rate</th>\n",
              "      <td>-0.00</td>\n",
              "    </tr>\n",
              "    <tr>\n",
              "      <th>share_HUD_units</th>\n",
              "      <td>2.21</td>\n",
              "    </tr>\n",
              "    <tr>\n",
              "      <th>share_built_before_1940</th>\n",
              "      <td>0.00</td>\n",
              "    </tr>\n",
              "    <tr>\n",
              "      <th>share_no_bachelors</th>\n",
              "      <td>0.00</td>\n",
              "    </tr>\n",
              "    <tr>\n",
              "      <th>share_overcrowded_units_2016</th>\n",
              "      <td>2.82</td>\n",
              "    </tr>\n",
              "    <tr>\n",
              "      <th>share_renters_2016</th>\n",
              "      <td>0.79</td>\n",
              "    </tr>\n",
              "    <tr>\n",
              "      <th>share_under_18_with_single_parent</th>\n",
              "      <td>0.00</td>\n",
              "    </tr>\n",
              "    <tr>\n",
              "      <th>share_veteran_status</th>\n",
              "      <td>0.11</td>\n",
              "    </tr>\n",
              "    <tr>\n",
              "      <th>suburban</th>\n",
              "      <td>-0.35</td>\n",
              "    </tr>\n",
              "    <tr>\n",
              "      <th>total_Jan_precipitation</th>\n",
              "      <td>3.30</td>\n",
              "    </tr>\n",
              "    <tr>\n",
              "      <th>total_annual_precipitation</th>\n",
              "      <td>-0.00</td>\n",
              "    </tr>\n",
              "    <tr>\n",
              "      <th>utility_costs</th>\n",
              "      <td>-0.00</td>\n",
              "    </tr>\n",
              "  </tbody>\n",
              "</table>\n",
              "</div>\n",
              "      <button class=\"colab-df-convert\" onclick=\"convertToInteractive('df-a56df521-74a5-4d06-a223-4d1cd633b2e2')\"\n",
              "              title=\"Convert this dataframe to an interactive table.\"\n",
              "              style=\"display:none;\">\n",
              "        \n",
              "  <svg xmlns=\"http://www.w3.org/2000/svg\" height=\"24px\"viewBox=\"0 0 24 24\"\n",
              "       width=\"24px\">\n",
              "    <path d=\"M0 0h24v24H0V0z\" fill=\"none\"/>\n",
              "    <path d=\"M18.56 5.44l.94 2.06.94-2.06 2.06-.94-2.06-.94-.94-2.06-.94 2.06-2.06.94zm-11 1L8.5 8.5l.94-2.06 2.06-.94-2.06-.94L8.5 2.5l-.94 2.06-2.06.94zm10 10l.94 2.06.94-2.06 2.06-.94-2.06-.94-.94-2.06-.94 2.06-2.06.94z\"/><path d=\"M17.41 7.96l-1.37-1.37c-.4-.4-.92-.59-1.43-.59-.52 0-1.04.2-1.43.59L10.3 9.45l-7.72 7.72c-.78.78-.78 2.05 0 2.83L4 21.41c.39.39.9.59 1.41.59.51 0 1.02-.2 1.41-.59l7.78-7.78 2.81-2.81c.8-.78.8-2.07 0-2.86zM5.41 20L4 18.59l7.72-7.72 1.47 1.35L5.41 20z\"/>\n",
              "  </svg>\n",
              "      </button>\n",
              "      \n",
              "  <style>\n",
              "    .colab-df-container {\n",
              "      display:flex;\n",
              "      flex-wrap:wrap;\n",
              "      gap: 12px;\n",
              "    }\n",
              "\n",
              "    .colab-df-convert {\n",
              "      background-color: #E8F0FE;\n",
              "      border: none;\n",
              "      border-radius: 50%;\n",
              "      cursor: pointer;\n",
              "      display: none;\n",
              "      fill: #1967D2;\n",
              "      height: 32px;\n",
              "      padding: 0 0 0 0;\n",
              "      width: 32px;\n",
              "    }\n",
              "\n",
              "    .colab-df-convert:hover {\n",
              "      background-color: #E2EBFA;\n",
              "      box-shadow: 0px 1px 2px rgba(60, 64, 67, 0.3), 0px 1px 3px 1px rgba(60, 64, 67, 0.15);\n",
              "      fill: #174EA6;\n",
              "    }\n",
              "\n",
              "    [theme=dark] .colab-df-convert {\n",
              "      background-color: #3B4455;\n",
              "      fill: #D2E3FC;\n",
              "    }\n",
              "\n",
              "    [theme=dark] .colab-df-convert:hover {\n",
              "      background-color: #434B5C;\n",
              "      box-shadow: 0px 1px 3px 1px rgba(0, 0, 0, 0.15);\n",
              "      filter: drop-shadow(0px 1px 2px rgba(0, 0, 0, 0.3));\n",
              "      fill: #FFFFFF;\n",
              "    }\n",
              "  </style>\n",
              "\n",
              "      <script>\n",
              "        const buttonEl =\n",
              "          document.querySelector('#df-a56df521-74a5-4d06-a223-4d1cd633b2e2 button.colab-df-convert');\n",
              "        buttonEl.style.display =\n",
              "          google.colab.kernel.accessAllowed ? 'block' : 'none';\n",
              "\n",
              "        async function convertToInteractive(key) {\n",
              "          const element = document.querySelector('#df-a56df521-74a5-4d06-a223-4d1cd633b2e2');\n",
              "          const dataTable =\n",
              "            await google.colab.kernel.invokeFunction('convertToInteractive',\n",
              "                                                     [key], {});\n",
              "          if (!dataTable) return;\n",
              "\n",
              "          const docLinkHtml = 'Like what you see? Visit the ' +\n",
              "            '<a target=\"_blank\" href=https://colab.research.google.com/notebooks/data_table.ipynb>data table notebook</a>'\n",
              "            + ' to learn more about interactive tables.';\n",
              "          element.innerHTML = '';\n",
              "          dataTable['output_type'] = 'display_data';\n",
              "          await google.colab.output.renderOutput(dataTable, element);\n",
              "          const docLink = document.createElement('div');\n",
              "          docLink.innerHTML = docLinkHtml;\n",
              "          element.appendChild(docLink);\n",
              "        }\n",
              "      </script>\n",
              "    </div>\n",
              "  </div>\n",
              "  "
            ]
          },
          "metadata": {},
          "execution_count": 228
        }
      ]
    },
    {
      "cell_type": "markdown",
      "source": [
        "##### $\\rightarrow$ Use the lasso model to predict the test data. Compute the MSE, RMSE, and $R^2$."
      ],
      "metadata": {
        "id": "pMwNIydHagpg"
      }
    },
    {
      "cell_type": "code",
      "source": [
        "MSE_lasso = mean_squared_error(y_test, lasso_reg.predict(x_test))\n",
        "RMSE_lasso = np.sqrt(MSE_lasso)\n",
        "R_squared_lasso = r2_score(y_test, lasso_reg.predict(x_test))\n",
        "\n",
        "print('MSE =', MSE_lasso.round(3), ' RMSE =', RMSE_lasso.round(3), ' R-squared =', R_squared_lasso.round(3))"
      ],
      "metadata": {
        "colab": {
          "base_uri": "https://localhost:8080/"
        },
        "id": "O_xToE6OalcL",
        "outputId": "25725720-01d2-45da-c6c3-a323e564dcc4"
      },
      "execution_count": 229,
      "outputs": [
        {
          "output_type": "stream",
          "name": "stdout",
          "text": [
            "MSE = 135.52  RMSE = 11.641  R-squared = 0.235\n"
          ]
        }
      ]
    },
    {
      "cell_type": "code",
      "source": [
        "plt.figure(figsize=(16,6))\n",
        "\n",
        "plt.subplot(1,2,1)\n",
        "plt.plot(y_test, lasso_reg.predict(x_test),'o', alpha = 0.4)\n",
        "plt.xlabel('Log Homelessness Rate',fontsize = 20)\n",
        "plt.ylabel('Predicted Log Homelessness Rate',fontsize = 20)\n",
        "plt.title('Lasso' + ' ' + ' RMSE = ' + str(RMSE_lasso.round(2)),fontsize = 14)\n",
        "\n",
        "plt.subplot(1,2,2)\n",
        "plt.plot(y_test, ridge_reg.predict(x_test),'o', alpha = 0.4)\n",
        "plt.xlabel('Log Homelessness Rate',fontsize = 20)\n",
        "plt.ylabel('Predicted Log Homelessness Rate',fontsize = 20)\n",
        "plt.title('Ridge' + ' ' + ' RMSE = ' + str(RMSE_ridge.round(2)),fontsize = 14);\n",
        "\n",
        "plt.subplots_adjust(hspace = 0.5)"
      ],
      "metadata": {
        "colab": {
          "base_uri": "https://localhost:8080/",
          "height": 579
        },
        "id": "CMMdShDYawFH",
        "outputId": "c689dd90-80e3-47f3-e2cc-bc2c8f26ac3d"
      },
      "execution_count": 230,
      "outputs": [
        {
          "output_type": "display_data",
          "data": {
            "text/plain": [
              "<Figure size 1600x600 with 2 Axes>"
            ],
            "image/png": "[encoded data removed]"
          },
          "metadata": {}
        }
      ]
    },
    {
      "cell_type": "markdown",
      "source": [
        "# XGBoost"
      ],
      "metadata": {
        "id": "KOsEjwxUv3yW"
      }
    },
    {
      "cell_type": "code",
      "source": [
        "xgb_model = xgb.XGBRegressor(objective=\"reg:squarederror\")\n",
        "\n",
        "params = {\n",
        "    \"colsample_bytree\": uniform(0.7, 0.3),\n",
        "    \"gamma\": uniform(0, 0.5),\n",
        "    \"learning_rate\": uniform(0.03, 0.3), # default 0.1 \n",
        "    \"max_depth\": randint(2, 6), # default 3\n",
        "    \"n_estimators\": randint(100, 150), # default 100\n",
        "    \"subsample\": uniform(0.6, 0.4)\n",
        "}\n",
        "\n",
        "search = RandomizedSearchCV(xgb_model, param_distributions=params, n_iter=200, cv=5, verbose=1, n_jobs=1, return_train_score=True, scoring = 'neg_mean_squared_error')\n",
        "\n",
        "search.fit(x_train, y_train)"
      ],
      "metadata": {
        "colab": {
          "base_uri": "https://localhost:8080/",
          "height": 135
        },
        "id": "kKdhM4wQdq_Q",
        "outputId": "3a429f08-9d26-4c14-eb30-6de177fb34bb"
      },
      "execution_count": 231,
      "outputs": [
        {
          "output_type": "stream",
          "name": "stdout",
          "text": [
            "Fitting 5 folds for each of 200 candidates, totalling 1000 fits\n"
          ]
        },
        {
          "output_type": "execute_result",
          "data": {
            "text/plain": [
              "RandomizedSearchCV(cv=5,\n",
              "                   estimator=XGBRegressor(base_score=None, booster=None,\n",
              "                                          callbacks=None,\n",
              "                                          colsample_bylevel=None,\n",
              "                                          colsample_bynode=None,\n",
              "                                          colsample_bytree=None,\n",
              "                                          early_stopping_rounds=None,\n",
              "                                          enable_categorical=False,\n",
              "                                          eval_metric=None, feature_types=None,\n",
              "                                          gamma=None, gpu_id=None,\n",
              "                                          grow_policy=None,\n",
              "                                          importance_type=None,\n",
              "                                          interaction_constraints=None,\n",
              "                                          learning_rate=...\n",
              "                                        'learning_rate': <scipy.stats._distn_infrastructure.rv_continuous_frozen object at 0x7f0e1340f850>,\n",
              "                                        'max_depth': <scipy.stats._distn_infrastructure.rv_discrete_frozen object at 0x7f0e1340e050>,\n",
              "                                        'n_estimators': <scipy.stats._distn_infrastructure.rv_discrete_frozen object at 0x7f0e1340f130>,\n",
              "                                        'subsample': <scipy.stats._distn_infrastructure.rv_continuous_frozen object at 0x7f0e1340d2a0>},\n",
              "                   return_train_score=True, scoring='neg_mean_squared_error',\n",
              "                   verbose=1)"
            ],
            "text/html": [
              "<style>#sk-container-id-13 {color: black;background-color: white;}#sk-container-id-13 pre{padding: 0;}#sk-container-id-13 div.sk-toggleable {background-color: white;}#sk-container-id-13 label.sk-toggleable__label {cursor: pointer;display: block;width: 100%;margin-bottom: 0;padding: 0.3em;box-sizing: border-box;text-align: center;}#sk-container-id-13 label.sk-toggleable__label-arrow:before {content: \"▸\";float: left;margin-right: 0.25em;color: #696969;}#sk-container-id-13 label.sk-toggleable__label-arrow:hover:before {color: black;}#sk-container-id-13 div.sk-estimator:hover label.sk-toggleable__label-arrow:before {color: black;}#sk-container-id-13 div.sk-toggleable__content {max-height: 0;max-width: 0;overflow: hidden;text-align: left;background-color: #f0f8ff;}#sk-container-id-13 div.sk-toggleable__content pre {margin: 0.2em;color: black;border-radius: 0.25em;background-color: #f0f8ff;}#sk-container-id-13 input.sk-toggleable__control:checked~div.sk-toggleable__content {max-height: 200px;max-width: 100%;overflow: auto;}#sk-container-id-13 input.sk-toggleable__control:checked~label.sk-toggleable__label-arrow:before {content: \"▾\";}#sk-container-id-13 div.sk-estimator input.sk-toggleable__control:checked~label.sk-toggleable__label {background-color: #d4ebff;}#sk-container-id-13 div.sk-label input.sk-toggleable__control:checked~label.sk-toggleable__label {background-color: #d4ebff;}#sk-container-id-13 input.sk-hidden--visually {border: 0;clip: rect(1px 1px 1px 1px);clip: rect(1px, 1px, 1px, 1px);height: 1px;margin: -1px;overflow: hidden;padding: 0;position: absolute;width: 1px;}#sk-container-id-13 div.sk-estimator {font-family: monospace;background-color: #f0f8ff;border: 1px dotted black;border-radius: 0.25em;box-sizing: border-box;margin-bottom: 0.5em;}#sk-container-id-13 div.sk-estimator:hover {background-color: #d4ebff;}#sk-container-id-13 div.sk-parallel-item::after {content: \"\";width: 100%;border-bottom: 1px solid gray;flex-grow: 1;}#sk-container-id-13 div.sk-label:hover label.sk-toggleable__label {background-color: #d4ebff;}#sk-container-id-13 div.sk-serial::before {content: \"\";position: absolute;border-left: 1px solid gray;box-sizing: border-box;top: 0;bottom: 0;left: 50%;z-index: 0;}#sk-container-id-13 div.sk-serial {display: flex;flex-direction: column;align-items: center;background-color: white;padding-right: 0.2em;padding-left: 0.2em;position: relative;}#sk-container-id-13 div.sk-item {position: relative;z-index: 1;}#sk-container-id-13 div.sk-parallel {display: flex;align-items: stretch;justify-content: center;background-color: white;position: relative;}#sk-container-id-13 div.sk-item::before, #sk-container-id-13 div.sk-parallel-item::before {content: \"\";position: absolute;border-left: 1px solid gray;box-sizing: border-box;top: 0;bottom: 0;left: 50%;z-index: -1;}#sk-container-id-13 div.sk-parallel-item {display: flex;flex-direction: column;z-index: 1;position: relative;background-color: white;}#sk-container-id-13 div.sk-parallel-item:first-child::after {align-self: flex-end;width: 50%;}#sk-container-id-13 div.sk-parallel-item:last-child::after {align-self: flex-start;width: 50%;}#sk-container-id-13 div.sk-parallel-item:only-child::after {width: 0;}#sk-container-id-13 div.sk-dashed-wrapped {border: 1px dashed gray;margin: 0 0.4em 0.5em 0.4em;box-sizing: border-box;padding-bottom: 0.4em;background-color: white;}#sk-container-id-13 div.sk-label label {font-family: monospace;font-weight: bold;display: inline-block;line-height: 1.2em;}#sk-container-id-13 div.sk-label-container {text-align: center;}#sk-container-id-13 div.sk-container {/* jupyter's `normalize.less` sets `[hidden] { display: none; }` but bootstrap.min.css set `[hidden] { display: none !important; }` so we also need the `!important` here to be able to override the default hidden behavior on the sphinx rendered scikit-learn.org. See: https://github.com/scikit-learn/scikit-learn/issues/21755 */display: inline-block !important;position: relative;}#sk-container-id-13 div.sk-text-repr-fallback {display: none;}</style><div id=\"sk-container-id-13\" class=\"sk-top-container\"><div class=\"sk-text-repr-fallback\"><pre>RandomizedSearchCV(cv=5,\n",
              "                   estimator=XGBRegressor(base_score=None, booster=None,\n",
              "                                          callbacks=None,\n",
              "                                          colsample_bylevel=None,\n",
              "                                          colsample_bynode=None,\n",
              "                                          colsample_bytree=None,\n",
              "                                          early_stopping_rounds=None,\n",
              "                                          enable_categorical=False,\n",
              "                                          eval_metric=None, feature_types=None,\n",
              "                                          gamma=None, gpu_id=None,\n",
              "                                          grow_policy=None,\n",
              "                                          importance_type=None,\n",
              "                                          interaction_constraints=None,\n",
              "                                          learning_rate=...\n",
              "                                        &#x27;learning_rate&#x27;: &lt;scipy.stats._distn_infrastructure.rv_continuous_frozen object at 0x7f0e1340f850&gt;,\n",
              "                                        &#x27;max_depth&#x27;: &lt;scipy.stats._distn_infrastructure.rv_discrete_frozen object at 0x7f0e1340e050&gt;,\n",
              "                                        &#x27;n_estimators&#x27;: &lt;scipy.stats._distn_infrastructure.rv_discrete_frozen object at 0x7f0e1340f130&gt;,\n",
              "                                        &#x27;subsample&#x27;: &lt;scipy.stats._distn_infrastructure.rv_continuous_frozen object at 0x7f0e1340d2a0&gt;},\n",
              "                   return_train_score=True, scoring=&#x27;neg_mean_squared_error&#x27;,\n",
              "                   verbose=1)</pre><b>In a Jupyter environment, please rerun this cell to show the HTML representation or trust the notebook. <br />On GitHub, the HTML representation is unable to render, please try loading this page with nbviewer.org.</b></div><div class=\"sk-container\" hidden><div class=\"sk-item sk-dashed-wrapped\"><div class=\"sk-label-container\"><div class=\"sk-label sk-toggleable\"><input class=\"sk-toggleable__control sk-hidden--visually\" id=\"sk-estimator-id-21\" type=\"checkbox\" ><label for=\"sk-estimator-id-21\" class=\"sk-toggleable__label sk-toggleable__label-arrow\">RandomizedSearchCV</label><div class=\"sk-toggleable__content\"><pre>RandomizedSearchCV(cv=5,\n",
              "                   estimator=XGBRegressor(base_score=None, booster=None,\n",
              "                                          callbacks=None,\n",
              "                                          colsample_bylevel=None,\n",
              "                                          colsample_bynode=None,\n",
              "                                          colsample_bytree=None,\n",
              "                                          early_stopping_rounds=None,\n",
              "                                          enable_categorical=False,\n",
              "                                          eval_metric=None, feature_types=None,\n",
              "                                          gamma=None, gpu_id=None,\n",
              "                                          grow_policy=None,\n",
              "                                          importance_type=None,\n",
              "                                          interaction_constraints=None,\n",
              "                                          learning_rate=...\n",
              "                                        &#x27;learning_rate&#x27;: &lt;scipy.stats._distn_infrastructure.rv_continuous_frozen object at 0x7f0e1340f850&gt;,\n",
              "                                        &#x27;max_depth&#x27;: &lt;scipy.stats._distn_infrastructure.rv_discrete_frozen object at 0x7f0e1340e050&gt;,\n",
              "                                        &#x27;n_estimators&#x27;: &lt;scipy.stats._distn_infrastructure.rv_discrete_frozen object at 0x7f0e1340f130&gt;,\n",
              "                                        &#x27;subsample&#x27;: &lt;scipy.stats._distn_infrastructure.rv_continuous_frozen object at 0x7f0e1340d2a0&gt;},\n",
              "                   return_train_score=True, scoring=&#x27;neg_mean_squared_error&#x27;,\n",
              "                   verbose=1)</pre></div></div></div><div class=\"sk-parallel\"><div class=\"sk-parallel-item\"><div class=\"sk-item\"><div class=\"sk-label-container\"><div class=\"sk-label sk-toggleable\"><input class=\"sk-toggleable__control sk-hidden--visually\" id=\"sk-estimator-id-22\" type=\"checkbox\" ><label for=\"sk-estimator-id-22\" class=\"sk-toggleable__label sk-toggleable__label-arrow\">estimator: XGBRegressor</label><div class=\"sk-toggleable__content\"><pre>XGBRegressor(base_score=None, booster=None, callbacks=None,\n",
              "             colsample_bylevel=None, colsample_bynode=None,\n",
              "             colsample_bytree=None, early_stopping_rounds=None,\n",
              "             enable_categorical=False, eval_metric=None, feature_types=None,\n",
              "             gamma=None, gpu_id=None, grow_policy=None, importance_type=None,\n",
              "             interaction_constraints=None, learning_rate=None, max_bin=None,\n",
              "             max_cat_threshold=None, max_cat_to_onehot=None,\n",
              "             max_delta_step=None, max_depth=None, max_leaves=None,\n",
              "             min_child_weight=None, missing=nan, monotone_constraints=None,\n",
              "             n_estimators=100, n_jobs=None, num_parallel_tree=None,\n",
              "             predictor=None, random_state=None, ...)</pre></div></div></div><div class=\"sk-serial\"><div class=\"sk-item\"><div class=\"sk-estimator sk-toggleable\"><input class=\"sk-toggleable__control sk-hidden--visually\" id=\"sk-estimator-id-23\" type=\"checkbox\" ><label for=\"sk-estimator-id-23\" class=\"sk-toggleable__label sk-toggleable__label-arrow\">XGBRegressor</label><div class=\"sk-toggleable__content\"><pre>XGBRegressor(base_score=None, booster=None, callbacks=None,\n",
              "             colsample_bylevel=None, colsample_bynode=None,\n",
              "             colsample_bytree=None, early_stopping_rounds=None,\n",
              "             enable_categorical=False, eval_metric=None, feature_types=None,\n",
              "             gamma=None, gpu_id=None, grow_policy=None, importance_type=None,\n",
              "             interaction_constraints=None, learning_rate=None, max_bin=None,\n",
              "             max_cat_threshold=None, max_cat_to_onehot=None,\n",
              "             max_delta_step=None, max_depth=None, max_leaves=None,\n",
              "             min_child_weight=None, missing=nan, monotone_constraints=None,\n",
              "             n_estimators=100, n_jobs=None, num_parallel_tree=None,\n",
              "             predictor=None, random_state=None, ...)</pre></div></div></div></div></div></div></div></div></div></div>"
            ]
          },
          "metadata": {},
          "execution_count": 231
        }
      ]
    },
    {
      "cell_type": "code",
      "source": [
        "search.best_params_"
      ],
      "metadata": {
        "colab": {
          "base_uri": "https://localhost:8080/"
        },
        "id": "GBYFev1xv9zG",
        "outputId": "32dc5f03-aa3a-4b3f-a4ec-6bc2801a04b0"
      },
      "execution_count": 232,
      "outputs": [
        {
          "output_type": "execute_result",
          "data": {
            "text/plain": [
              "{'colsample_bytree': 0.7608107534962355,\n",
              " 'gamma': 0.35277489252915156,\n",
              " 'learning_rate': 0.10362116472124433,\n",
              " 'max_depth': 3,\n",
              " 'n_estimators': 135,\n",
              " 'subsample': 0.8827773200118652}"
            ]
          },
          "metadata": {},
          "execution_count": 232
        }
      ]
    },
    {
      "cell_type": "markdown",
      "source": [
        "Create an XGBoost model with the best parameters"
      ],
      "metadata": {
        "id": "Dr7z1FnDwvTU"
      }
    },
    {
      "cell_type": "code",
      "source": [
        "model_xgb = xgb.XGBRegressor(objective=\"reg:squarederror\")"
      ],
      "metadata": {
        "id": "X5BztD-CwsGy"
      },
      "execution_count": 233,
      "outputs": []
    },
    {
      "cell_type": "code",
      "source": [
        "model_xgb.set_params(**search.best_params_)"
      ],
      "metadata": {
        "colab": {
          "base_uri": "https://localhost:8080/",
          "height": 252
        },
        "id": "-Tmt_bkLwyD4",
        "outputId": "eacbd9be-3e7a-421a-fcce-53fe1fa1ba12"
      },
      "execution_count": 234,
      "outputs": [
        {
          "output_type": "execute_result",
          "data": {
            "text/plain": [
              "XGBRegressor(base_score=None, booster=None, callbacks=None,\n",
              "             colsample_bylevel=None, colsample_bynode=None,\n",
              "             colsample_bytree=0.7608107534962355, early_stopping_rounds=None,\n",
              "             enable_categorical=False, eval_metric=None, feature_types=None,\n",
              "             gamma=0.35277489252915156, gpu_id=None, grow_policy=None,\n",
              "             importance_type=None, interaction_constraints=None,\n",
              "             learning_rate=0.10362116472124433, max_bin=None,\n",
              "             max_cat_threshold=None, max_cat_to_onehot=None,\n",
              "             max_delta_step=None, max_depth=3, max_leaves=None,\n",
              "             min_child_weight=None, missing=nan, monotone_constraints=None,\n",
              "             n_estimators=135, n_jobs=None, num_parallel_tree=None,\n",
              "             predictor=None, random_state=None, ...)"
            ],
            "text/html": [
              "<style>#sk-container-id-14 {color: black;background-color: white;}#sk-container-id-14 pre{padding: 0;}#sk-container-id-14 div.sk-toggleable {background-color: white;}#sk-container-id-14 label.sk-toggleable__label {cursor: pointer;display: block;width: 100%;margin-bottom: 0;padding: 0.3em;box-sizing: border-box;text-align: center;}#sk-container-id-14 label.sk-toggleable__label-arrow:before {content: \"▸\";float: left;margin-right: 0.25em;color: #696969;}#sk-container-id-14 label.sk-toggleable__label-arrow:hover:before {color: black;}#sk-container-id-14 div.sk-estimator:hover label.sk-toggleable__label-arrow:before {color: black;}#sk-container-id-14 div.sk-toggleable__content {max-height: 0;max-width: 0;overflow: hidden;text-align: left;background-color: #f0f8ff;}#sk-container-id-14 div.sk-toggleable__content pre {margin: 0.2em;color: black;border-radius: 0.25em;background-color: #f0f8ff;}#sk-container-id-14 input.sk-toggleable__control:checked~div.sk-toggleable__content {max-height: 200px;max-width: 100%;overflow: auto;}#sk-container-id-14 input.sk-toggleable__control:checked~label.sk-toggleable__label-arrow:before {content: \"▾\";}#sk-container-id-14 div.sk-estimator input.sk-toggleable__control:checked~label.sk-toggleable__label {background-color: #d4ebff;}#sk-container-id-14 div.sk-label input.sk-toggleable__control:checked~label.sk-toggleable__label {background-color: #d4ebff;}#sk-container-id-14 input.sk-hidden--visually {border: 0;clip: rect(1px 1px 1px 1px);clip: rect(1px, 1px, 1px, 1px);height: 1px;margin: -1px;overflow: hidden;padding: 0;position: absolute;width: 1px;}#sk-container-id-14 div.sk-estimator {font-family: monospace;background-color: #f0f8ff;border: 1px dotted black;border-radius: 0.25em;box-sizing: border-box;margin-bottom: 0.5em;}#sk-container-id-14 div.sk-estimator:hover {background-color: #d4ebff;}#sk-container-id-14 div.sk-parallel-item::after {content: \"\";width: 100%;border-bottom: 1px solid gray;flex-grow: 1;}#sk-container-id-14 div.sk-label:hover label.sk-toggleable__label {background-color: #d4ebff;}#sk-container-id-14 div.sk-serial::before {content: \"\";position: absolute;border-left: 1px solid gray;box-sizing: border-box;top: 0;bottom: 0;left: 50%;z-index: 0;}#sk-container-id-14 div.sk-serial {display: flex;flex-direction: column;align-items: center;background-color: white;padding-right: 0.2em;padding-left: 0.2em;position: relative;}#sk-container-id-14 div.sk-item {position: relative;z-index: 1;}#sk-container-id-14 div.sk-parallel {display: flex;align-items: stretch;justify-content: center;background-color: white;position: relative;}#sk-container-id-14 div.sk-item::before, #sk-container-id-14 div.sk-parallel-item::before {content: \"\";position: absolute;border-left: 1px solid gray;box-sizing: border-box;top: 0;bottom: 0;left: 50%;z-index: -1;}#sk-container-id-14 div.sk-parallel-item {display: flex;flex-direction: column;z-index: 1;position: relative;background-color: white;}#sk-container-id-14 div.sk-parallel-item:first-child::after {align-self: flex-end;width: 50%;}#sk-container-id-14 div.sk-parallel-item:last-child::after {align-self: flex-start;width: 50%;}#sk-container-id-14 div.sk-parallel-item:only-child::after {width: 0;}#sk-container-id-14 div.sk-dashed-wrapped {border: 1px dashed gray;margin: 0 0.4em 0.5em 0.4em;box-sizing: border-box;padding-bottom: 0.4em;background-color: white;}#sk-container-id-14 div.sk-label label {font-family: monospace;font-weight: bold;display: inline-block;line-height: 1.2em;}#sk-container-id-14 div.sk-label-container {text-align: center;}#sk-container-id-14 div.sk-container {/* jupyter's `normalize.less` sets `[hidden] { display: none; }` but bootstrap.min.css set `[hidden] { display: none !important; }` so we also need the `!important` here to be able to override the default hidden behavior on the sphinx rendered scikit-learn.org. See: https://github.com/scikit-learn/scikit-learn/issues/21755 */display: inline-block !important;position: relative;}#sk-container-id-14 div.sk-text-repr-fallback {display: none;}</style><div id=\"sk-container-id-14\" class=\"sk-top-container\"><div class=\"sk-text-repr-fallback\"><pre>XGBRegressor(base_score=None, booster=None, callbacks=None,\n",
              "             colsample_bylevel=None, colsample_bynode=None,\n",
              "             colsample_bytree=0.7608107534962355, early_stopping_rounds=None,\n",
              "             enable_categorical=False, eval_metric=None, feature_types=None,\n",
              "             gamma=0.35277489252915156, gpu_id=None, grow_policy=None,\n",
              "             importance_type=None, interaction_constraints=None,\n",
              "             learning_rate=0.10362116472124433, max_bin=None,\n",
              "             max_cat_threshold=None, max_cat_to_onehot=None,\n",
              "             max_delta_step=None, max_depth=3, max_leaves=None,\n",
              "             min_child_weight=None, missing=nan, monotone_constraints=None,\n",
              "             n_estimators=135, n_jobs=None, num_parallel_tree=None,\n",
              "             predictor=None, random_state=None, ...)</pre><b>In a Jupyter environment, please rerun this cell to show the HTML representation or trust the notebook. <br />On GitHub, the HTML representation is unable to render, please try loading this page with nbviewer.org.</b></div><div class=\"sk-container\" hidden><div class=\"sk-item\"><div class=\"sk-estimator sk-toggleable\"><input class=\"sk-toggleable__control sk-hidden--visually\" id=\"sk-estimator-id-24\" type=\"checkbox\" checked><label for=\"sk-estimator-id-24\" class=\"sk-toggleable__label sk-toggleable__label-arrow\">XGBRegressor</label><div class=\"sk-toggleable__content\"><pre>XGBRegressor(base_score=None, booster=None, callbacks=None,\n",
              "             colsample_bylevel=None, colsample_bynode=None,\n",
              "             colsample_bytree=0.7608107534962355, early_stopping_rounds=None,\n",
              "             enable_categorical=False, eval_metric=None, feature_types=None,\n",
              "             gamma=0.35277489252915156, gpu_id=None, grow_policy=None,\n",
              "             importance_type=None, interaction_constraints=None,\n",
              "             learning_rate=0.10362116472124433, max_bin=None,\n",
              "             max_cat_threshold=None, max_cat_to_onehot=None,\n",
              "             max_delta_step=None, max_depth=3, max_leaves=None,\n",
              "             min_child_weight=None, missing=nan, monotone_constraints=None,\n",
              "             n_estimators=135, n_jobs=None, num_parallel_tree=None,\n",
              "             predictor=None, random_state=None, ...)</pre></div></div></div></div></div>"
            ]
          },
          "metadata": {},
          "execution_count": 234
        }
      ]
    },
    {
      "cell_type": "markdown",
      "source": [
        "Fit the model on the training data"
      ],
      "metadata": {
        "id": "Qw5eWqrLw4n6"
      }
    },
    {
      "cell_type": "code",
      "source": [
        "model_xgb.fit(x_train, y_train)"
      ],
      "metadata": {
        "colab": {
          "base_uri": "https://localhost:8080/",
          "height": 252
        },
        "id": "YDMex8c2wzum",
        "outputId": "a6218094-9e27-4d8d-9f91-913ce05ef20a"
      },
      "execution_count": 235,
      "outputs": [
        {
          "output_type": "execute_result",
          "data": {
            "text/plain": [
              "XGBRegressor(base_score=None, booster=None, callbacks=None,\n",
              "             colsample_bylevel=None, colsample_bynode=None,\n",
              "             colsample_bytree=0.7608107534962355, early_stopping_rounds=None,\n",
              "             enable_categorical=False, eval_metric=None, feature_types=None,\n",
              "             gamma=0.35277489252915156, gpu_id=None, grow_policy=None,\n",
              "             importance_type=None, interaction_constraints=None,\n",
              "             learning_rate=0.10362116472124433, max_bin=None,\n",
              "             max_cat_threshold=None, max_cat_to_onehot=None,\n",
              "             max_delta_step=None, max_depth=3, max_leaves=None,\n",
              "             min_child_weight=None, missing=nan, monotone_constraints=None,\n",
              "             n_estimators=135, n_jobs=None, num_parallel_tree=None,\n",
              "             predictor=None, random_state=None, ...)"
            ],
            "text/html": [
              "<style>#sk-container-id-15 {color: black;background-color: white;}#sk-container-id-15 pre{padding: 0;}#sk-container-id-15 div.sk-toggleable {background-color: white;}#sk-container-id-15 label.sk-toggleable__label {cursor: pointer;display: block;width: 100%;margin-bottom: 0;padding: 0.3em;box-sizing: border-box;text-align: center;}#sk-container-id-15 label.sk-toggleable__label-arrow:before {content: \"▸\";float: left;margin-right: 0.25em;color: #696969;}#sk-container-id-15 label.sk-toggleable__label-arrow:hover:before {color: black;}#sk-container-id-15 div.sk-estimator:hover label.sk-toggleable__label-arrow:before {color: black;}#sk-container-id-15 div.sk-toggleable__content {max-height: 0;max-width: 0;overflow: hidden;text-align: left;background-color: #f0f8ff;}#sk-container-id-15 div.sk-toggleable__content pre {margin: 0.2em;color: black;border-radius: 0.25em;background-color: #f0f8ff;}#sk-container-id-15 input.sk-toggleable__control:checked~div.sk-toggleable__content {max-height: 200px;max-width: 100%;overflow: auto;}#sk-container-id-15 input.sk-toggleable__control:checked~label.sk-toggleable__label-arrow:before {content: \"▾\";}#sk-container-id-15 div.sk-estimator input.sk-toggleable__control:checked~label.sk-toggleable__label {background-color: #d4ebff;}#sk-container-id-15 div.sk-label input.sk-toggleable__control:checked~label.sk-toggleable__label {background-color: #d4ebff;}#sk-container-id-15 input.sk-hidden--visually {border: 0;clip: rect(1px 1px 1px 1px);clip: rect(1px, 1px, 1px, 1px);height: 1px;margin: -1px;overflow: hidden;padding: 0;position: absolute;width: 1px;}#sk-container-id-15 div.sk-estimator {font-family: monospace;background-color: #f0f8ff;border: 1px dotted black;border-radius: 0.25em;box-sizing: border-box;margin-bottom: 0.5em;}#sk-container-id-15 div.sk-estimator:hover {background-color: #d4ebff;}#sk-container-id-15 div.sk-parallel-item::after {content: \"\";width: 100%;border-bottom: 1px solid gray;flex-grow: 1;}#sk-container-id-15 div.sk-label:hover label.sk-toggleable__label {background-color: #d4ebff;}#sk-container-id-15 div.sk-serial::before {content: \"\";position: absolute;border-left: 1px solid gray;box-sizing: border-box;top: 0;bottom: 0;left: 50%;z-index: 0;}#sk-container-id-15 div.sk-serial {display: flex;flex-direction: column;align-items: center;background-color: white;padding-right: 0.2em;padding-left: 0.2em;position: relative;}#sk-container-id-15 div.sk-item {position: relative;z-index: 1;}#sk-container-id-15 div.sk-parallel {display: flex;align-items: stretch;justify-content: center;background-color: white;position: relative;}#sk-container-id-15 div.sk-item::before, #sk-container-id-15 div.sk-parallel-item::before {content: \"\";position: absolute;border-left: 1px solid gray;box-sizing: border-box;top: 0;bottom: 0;left: 50%;z-index: -1;}#sk-container-id-15 div.sk-parallel-item {display: flex;flex-direction: column;z-index: 1;position: relative;background-color: white;}#sk-container-id-15 div.sk-parallel-item:first-child::after {align-self: flex-end;width: 50%;}#sk-container-id-15 div.sk-parallel-item:last-child::after {align-self: flex-start;width: 50%;}#sk-container-id-15 div.sk-parallel-item:only-child::after {width: 0;}#sk-container-id-15 div.sk-dashed-wrapped {border: 1px dashed gray;margin: 0 0.4em 0.5em 0.4em;box-sizing: border-box;padding-bottom: 0.4em;background-color: white;}#sk-container-id-15 div.sk-label label {font-family: monospace;font-weight: bold;display: inline-block;line-height: 1.2em;}#sk-container-id-15 div.sk-label-container {text-align: center;}#sk-container-id-15 div.sk-container {/* jupyter's `normalize.less` sets `[hidden] { display: none; }` but bootstrap.min.css set `[hidden] { display: none !important; }` so we also need the `!important` here to be able to override the default hidden behavior on the sphinx rendered scikit-learn.org. See: https://github.com/scikit-learn/scikit-learn/issues/21755 */display: inline-block !important;position: relative;}#sk-container-id-15 div.sk-text-repr-fallback {display: none;}</style><div id=\"sk-container-id-15\" class=\"sk-top-container\"><div class=\"sk-text-repr-fallback\"><pre>XGBRegressor(base_score=None, booster=None, callbacks=None,\n",
              "             colsample_bylevel=None, colsample_bynode=None,\n",
              "             colsample_bytree=0.7608107534962355, early_stopping_rounds=None,\n",
              "             enable_categorical=False, eval_metric=None, feature_types=None,\n",
              "             gamma=0.35277489252915156, gpu_id=None, grow_policy=None,\n",
              "             importance_type=None, interaction_constraints=None,\n",
              "             learning_rate=0.10362116472124433, max_bin=None,\n",
              "             max_cat_threshold=None, max_cat_to_onehot=None,\n",
              "             max_delta_step=None, max_depth=3, max_leaves=None,\n",
              "             min_child_weight=None, missing=nan, monotone_constraints=None,\n",
              "             n_estimators=135, n_jobs=None, num_parallel_tree=None,\n",
              "             predictor=None, random_state=None, ...)</pre><b>In a Jupyter environment, please rerun this cell to show the HTML representation or trust the notebook. <br />On GitHub, the HTML representation is unable to render, please try loading this page with nbviewer.org.</b></div><div class=\"sk-container\" hidden><div class=\"sk-item\"><div class=\"sk-estimator sk-toggleable\"><input class=\"sk-toggleable__control sk-hidden--visually\" id=\"sk-estimator-id-25\" type=\"checkbox\" checked><label for=\"sk-estimator-id-25\" class=\"sk-toggleable__label sk-toggleable__label-arrow\">XGBRegressor</label><div class=\"sk-toggleable__content\"><pre>XGBRegressor(base_score=None, booster=None, callbacks=None,\n",
              "             colsample_bylevel=None, colsample_bynode=None,\n",
              "             colsample_bytree=0.7608107534962355, early_stopping_rounds=None,\n",
              "             enable_categorical=False, eval_metric=None, feature_types=None,\n",
              "             gamma=0.35277489252915156, gpu_id=None, grow_policy=None,\n",
              "             importance_type=None, interaction_constraints=None,\n",
              "             learning_rate=0.10362116472124433, max_bin=None,\n",
              "             max_cat_threshold=None, max_cat_to_onehot=None,\n",
              "             max_delta_step=None, max_depth=3, max_leaves=None,\n",
              "             min_child_weight=None, missing=nan, monotone_constraints=None,\n",
              "             n_estimators=135, n_jobs=None, num_parallel_tree=None,\n",
              "             predictor=None, random_state=None, ...)</pre></div></div></div></div></div>"
            ]
          },
          "metadata": {},
          "execution_count": 235
        }
      ]
    },
    {
      "cell_type": "markdown",
      "source": [
        "Predict the test data"
      ],
      "metadata": {
        "id": "pczjksCIxn5a"
      }
    },
    {
      "cell_type": "code",
      "source": [
        "y_pred_xgb = model_xgb.predict(x_test)"
      ],
      "metadata": {
        "id": "5hQeaE-Aw2kK"
      },
      "execution_count": 236,
      "outputs": []
    },
    {
      "cell_type": "markdown",
      "source": [
        "Compute the RMSE"
      ],
      "metadata": {
        "id": "IQ6JeFhS0LHf"
      }
    },
    {
      "cell_type": "code",
      "source": [
        "mean_squared_error(y_test, y_pred_xgb, squared = False).round(3)"
      ],
      "metadata": {
        "id": "i2EKLQsd0LHf",
        "colab": {
          "base_uri": "https://localhost:8080/"
        },
        "outputId": "852fbbd9-8ca3-4c55-db35-cd00a442b2d2"
      },
      "execution_count": 237,
      "outputs": [
        {
          "output_type": "execute_result",
          "data": {
            "text/plain": [
              "11.357"
            ]
          },
          "metadata": {},
          "execution_count": 237
        }
      ]
    },
    {
      "cell_type": "markdown",
      "source": [
        "Compute the mean absolute error"
      ],
      "metadata": {
        "id": "H0QkyIIP0LHf"
      }
    },
    {
      "cell_type": "code",
      "source": [
        "mean_absolute_error(y_test, y_pred_xgb).round(3)"
      ],
      "metadata": {
        "id": "_TXEEuHF0LHg",
        "colab": {
          "base_uri": "https://localhost:8080/"
        },
        "outputId": "b833de54-5bb8-4ffd-f068-0515be100eb3"
      },
      "execution_count": 238,
      "outputs": [
        {
          "output_type": "execute_result",
          "data": {
            "text/plain": [
              "7.378"
            ]
          },
          "metadata": {},
          "execution_count": 238
        }
      ]
    },
    {
      "cell_type": "code",
      "source": [
        "plt.figure(figsize = (8,6))\n",
        "\n",
        "plt.plot(y_test, y_pred_xgb, 'o');\n",
        "\n",
        "plt.xlabel('Homelessness Rate', fontsize = 15)\n",
        "plt.ylabel('Predicted test set homelessness rate', fontsize = 15)\n",
        "\n",
        "plt.tick_params(labelsize = 15)"
      ],
      "metadata": {
        "colab": {
          "base_uri": "https://localhost:8080/",
          "height": 554
        },
        "id": "RjpeSpmHxXry",
        "outputId": "0383e416-6f45-407d-ba24-ad2237259bad"
      },
      "execution_count": 239,
      "outputs": [
        {
          "output_type": "display_data",
          "data": {
            "text/plain": [
              "<Figure size 800x600 with 1 Axes>"
            ],
            "image/png": "[encoded data removed]"
          },
          "metadata": {}
        }
      ]
    },
    {
      "cell_type": "markdown",
      "source": [
        "Compute the RMSE"
      ],
      "metadata": {
        "id": "X2dZ8sIgxy71"
      }
    },
    {
      "cell_type": "code",
      "source": [
        "mean_squared_error(y_test, y_pred_xgb, squared = False).round(3)"
      ],
      "metadata": {
        "colab": {
          "base_uri": "https://localhost:8080/"
        },
        "id": "Id5Pqh_2xy71",
        "outputId": "31c6db5b-f924-4773-e4a5-6dfce3fc744b"
      },
      "execution_count": 240,
      "outputs": [
        {
          "output_type": "execute_result",
          "data": {
            "text/plain": [
              "11.357"
            ]
          },
          "metadata": {},
          "execution_count": 240
        }
      ]
    },
    {
      "cell_type": "markdown",
      "source": [
        "Compute the mean absolute error"
      ],
      "metadata": {
        "id": "3nt6wTqExy72"
      }
    },
    {
      "cell_type": "code",
      "source": [
        "mean_absolute_error(y_test, y_pred_xgb).round(3)"
      ],
      "metadata": {
        "colab": {
          "base_uri": "https://localhost:8080/"
        },
        "id": "LLuMMARexy72",
        "outputId": "ddfa1775-1812-4606-f861-406d219045b2"
      },
      "execution_count": 241,
      "outputs": [
        {
          "output_type": "execute_result",
          "data": {
            "text/plain": [
              "7.378"
            ]
          },
          "metadata": {},
          "execution_count": 241
        }
      ]
    },
    {
      "cell_type": "code",
      "source": [
        "# Values of tree depth to test\n",
        "parms = np.arange(1,10)\n",
        "# Define the set of parameters to tune (just tree depth)\n",
        "tuned_parameters = [{\"max_depth\": parms}]\n",
        "# Specify the number of folds\n",
        "n_folds = 5"
      ],
      "metadata": {
        "id": "hM9op109ymQx"
      },
      "execution_count": 242,
      "outputs": []
    },
    {
      "cell_type": "code",
      "source": [
        "# Initialize a list to record the RMSE\n",
        "xgb_rmse_kfold = []\n",
        "\n",
        "# Create the model object\n",
        "model = xgb.XGBRegressor()\n",
        "\n",
        "# Create the k-folds object with the number of splits\n",
        "kf = KFold(n_splits=10)\n",
        "\n",
        "# Loop over all splits\n",
        "for train_index, test_index in kf.split(x):\n",
        "    x_train = x.iloc[train_index,:]\n",
        "    y_train = y.iloc[train_index]\n",
        "\n",
        "    x_test = x.iloc[test_index,:]\n",
        "    y_test = y.iloc[test_index]\n",
        "\n",
        "    # Do the cross validation\n",
        "    modelCV = GridSearchCV(model, tuned_parameters, cv=n_folds, refit=False, scoring = 'neg_mean_squared_error').fit(x_train, y_train)\n",
        "\n",
        "    # Get the scores\n",
        "    scores = modelCV.cv_results_[\"mean_test_score\"]\n",
        "\n",
        "    # Get the best value of alpha\n",
        "    best_model = modelCV.best_params_['max_depth']\n",
        "\n",
        "    # Fit the best model\n",
        "    xgb_model = xgb.XGBRegressor(max_depth=best_model)\n",
        "\n",
        "    xgb_model.fit(x_train, y_train)\n",
        "\n",
        "    # Predict\n",
        "    y_prediction = xgb_model.predict(x_test)\n",
        "\n",
        "    xgb_rmse_kfold.append(mean_squared_error(y_test, y_prediction, squared=False))"
      ],
      "metadata": {
        "id": "-511JcSZXuyW"
      },
      "execution_count": 243,
      "outputs": []
    },
    {
      "cell_type": "code",
      "source": [
        "#plt.boxplot(tree_rmse);\n",
        "plt.bar(np.arange(kf.get_n_splits()), xgb_rmse_kfold);\n",
        "plt.xlabel('Fold number', fontsize=15);\n",
        "plt.ylabel('K-fold RMSE', fontsize=15);"
      ],
      "metadata": {
        "id": "_LAB1ZWFXyQt",
        "colab": {
          "base_uri": "https://localhost:8080/",
          "height": 455
        },
        "outputId": "66c9c009-56ca-4e49-f9be-09d6e5cc3fef"
      },
      "execution_count": 244,
      "outputs": [
        {
          "output_type": "display_data",
          "data": {
            "text/plain": [
              "<Figure size 640x480 with 1 Axes>"
            ],
            "image/png": "[encoded data removed]"
          },
          "metadata": {}
        }
      ]
    },
    {
      "cell_type": "code",
      "source": [
        "print(x)"
      ],
      "metadata": {
        "colab": {
          "base_uri": "https://localhost:8080/"
        },
        "id": "cj3IM2xEwb8u",
        "outputId": "6c7cdc9a-f2d1-4689-dbd4-237940e32f0e"
      },
      "execution_count": 245,
      "outputs": [
        {
          "output_type": "stream",
          "name": "stdout",
          "text": [
            "     HUD_unit_occupancy_rate  average_Jan_temperature  \\\n",
            "0                  99.000000                13.800000   \n",
            "1                  99.000000                13.800000   \n",
            "2                  95.083710                50.995346   \n",
            "3                  87.000801                57.893360   \n",
            "4                  95.178665                48.382103   \n",
            "..                       ...                      ...   \n",
            "369                87.321678                35.109627   \n",
            "370                93.790115                40.581108   \n",
            "371                95.965622                40.225986   \n",
            "372                89.981705                37.575474   \n",
            "373                94.188499                18.187859   \n",
            "\n",
            "     average_summer_temperature  city_or_urban  federal_funding  \\\n",
            "0                     60.799999              1         29.36677   \n",
            "1                     60.799999              0          7.60458   \n",
            "2                     80.874313              0         89.09627   \n",
            "3                     81.939949              1         38.51277   \n",
            "4                     79.429985              0          4.69366   \n",
            "..                          ...            ...              ...   \n",
            "369                   73.512047              0          4.13181   \n",
            "370                   76.372177              0         21.05300   \n",
            "371                   75.255028              0         12.23910   \n",
            "372                   73.176598              0         40.18831   \n",
            "373                   65.419609              0          2.91611   \n",
            "\n",
            "     federal_funding_change  gini_coefficient_2016  high_housing_density  \\\n",
            "0                 -0.593490              42.010002                     0   \n",
            "1                 -1.013110              40.675701                     0   \n",
            "2                  3.708201              47.633533                     0   \n",
            "3                  1.808279              46.713249                     0   \n",
            "4                 -1.119620              45.165546                     0   \n",
            "..                      ...                    ...                   ...   \n",
            "369               -0.245660              45.218510                     0   \n",
            "370                4.781050              48.982166                     0   \n",
            "371               -1.092500              46.112286                     0   \n",
            "372               17.087120              44.832005                     0   \n",
            "373               -0.492040              42.013695                     0   \n",
            "\n",
            "     house_price_index_2009  log_median_rent  ...  share_built_before_1940  \\\n",
            "0                 11.743647         2.438863  ...                 0.366995   \n",
            "1                  9.042710         2.249699  ...                 2.236410   \n",
            "2                 -0.852477         1.862248  ...                 7.191579   \n",
            "3                 -8.507004         1.858394  ...                 3.681716   \n",
            "4                  0.751167         1.362010  ...                 5.150007   \n",
            "..                      ...              ...  ...                      ...   \n",
            "369                8.888932         1.459895  ...                25.126446   \n",
            "370                2.793695         1.595035  ...                17.564009   \n",
            "371                3.041601         1.649177  ...                11.364751   \n",
            "372                4.995708         1.587101  ...                16.086874   \n",
            "373                7.321831         1.941027  ...                11.086377   \n",
            "\n",
            "     share_no_bachelors  share_overcrowded_units_2016  share_renters_2016  \\\n",
            "0             65.634148                      4.117406           39.727921   \n",
            "1             75.560379                      9.294898           33.922234   \n",
            "2             65.983711                      1.235925           31.769621   \n",
            "3             74.543457                      1.712736           32.109203   \n",
            "4             82.332657                      1.539988           27.708206   \n",
            "..                  ...                           ...                 ...   \n",
            "369           77.122894                      1.079158           27.521181   \n",
            "370           76.023590                      1.018983           34.475803   \n",
            "371           75.165283                      1.058778           27.259258   \n",
            "372           79.828537                      1.597005           26.778641   \n",
            "373           73.547821                      2.048417           31.324768   \n",
            "\n",
            "     share_under_18_with_single_parent  share_veteran_status  suburban  \\\n",
            "0                            23.379078             14.535126         0   \n",
            "1                            19.786558             14.142518         0   \n",
            "2                            32.077599              9.149558         1   \n",
            "3                            33.668129             11.647923         0   \n",
            "4                            27.959316              9.135015         0   \n",
            "..                                 ...                   ...       ...   \n",
            "369                          26.413492             11.331009         0   \n",
            "370                          29.276711             10.428111         0   \n",
            "371                          26.634947             10.506406         1   \n",
            "372                          23.425161             11.278491         0   \n",
            "373                          19.368048             11.996357         0   \n",
            "\n",
            "     total_Jan_precipitation  total_annual_precipitation  utility_costs  \n",
            "0                   1.710000                   16.500000       8.500000  \n",
            "1                   1.710000                   16.500000      14.607715  \n",
            "2                   6.669876                   38.593376      19.492331  \n",
            "3                  12.296666                   58.519012      18.899839  \n",
            "4                   5.462999                   44.778618      18.803186  \n",
            "..                       ...                         ...            ...  \n",
            "369                 4.164744                   42.280125      16.585392  \n",
            "370                 4.309402                   43.476166      17.695057  \n",
            "371                 4.353291                   42.982872      17.768978  \n",
            "372                 4.592812                   43.718338      16.804708  \n",
            "373                 1.412191                   16.704624      11.694517  \n",
            "\n",
            "[374 rows x 39 columns]\n"
          ]
        }
      ]
    },
    {
      "cell_type": "code",
      "source": [
        "import statsmodels.formula.api as sm\n",
        "from statsmodels.api import datasets\n",
        "import pandas as pd\n",
        "\n",
        "ar2 = dict()\n",
        "candidates = []\n",
        "last_max = -1\n",
        "\n",
        "df.join(pd.get_dummies(df['poverty_rate'], drop_first=True))\n",
        "y = 'rate_homeless'\n",
        "\n",
        "while(True):\n",
        "    for attri in df.drop([y] + candidates, axis=1).columns:\n",
        "        if len(candidates) == 0:\n",
        "            features = attri\n",
        "        else:\n",
        "            features = attri + ' + '\n",
        "            features += ' + '.join(candidates)\n",
        "\n",
        "        model = sm.ols(y + ' ~ ' + features, df).fit()\n",
        "        ar2[attri] = model.rsquared\n",
        "\n",
        "    max_ar2 =  max(ar2.values())\n",
        "    max_ar2_key = max(ar2, key=ar2.get)\n",
        "\n",
        "    if max_ar2 > last_max:\n",
        "        candidates.append(max_ar2_key)\n",
        "        last_max = max_ar2\n",
        "\n",
        "        print('step: ' + str(len(candidates)))\n",
        "        print(candidates)\n",
        "        print('Adjusted R2: ' + str(max_ar2))\n",
        "        print('===============')\n",
        "    else:\n",
        "        print(model.summary())\n",
        "        break\n",
        "\n",
        "print('\\n\\n')\n",
        "print('elminated variables: ')\n",
        "print(set(df.drop(y, axis=1).columns).difference(candidates))"
      ],
      "metadata": {
        "colab": {
          "base_uri": "https://localhost:8080/"
        },
        "id": "sfQZKYoTh0rt",
        "outputId": "0a4737e8-79c2-4edf-f7df-414567f4d253"
      },
      "execution_count": 246,
      "outputs": [
        {
          "output_type": "stream",
          "name": "stdout",
          "text": [
            "step: 1\n",
            "['share_renters_2016']\n",
            "Adjusted R2: 0.22760858532471961\n",
            "===============\n",
            "step: 2\n",
            "['share_renters_2016', 'total_Jan_precipitation']\n",
            "Adjusted R2: 0.305630875805165\n",
            "===============\n",
            "step: 3\n",
            "['share_renters_2016', 'total_Jan_precipitation', 'total_homeless']\n",
            "Adjusted R2: 0.3656797754584745\n",
            "===============\n",
            "step: 4\n",
            "['share_renters_2016', 'total_Jan_precipitation', 'total_homeless', 'percent_population_65_plus']\n",
            "Adjusted R2: 0.41201855725992176\n",
            "===============\n",
            "step: 5\n",
            "['share_renters_2016', 'total_Jan_precipitation', 'total_homeless', 'percent_population_65_plus', 'percentage_excessive_drinking']\n",
            "Adjusted R2: 0.4578760658951281\n",
            "===============\n",
            "step: 6\n",
            "['share_renters_2016', 'total_Jan_precipitation', 'total_homeless', 'percent_population_65_plus', 'percentage_excessive_drinking', 'percent_pacific_islander']\n",
            "Adjusted R2: 0.48637980381001245\n",
            "===============\n",
            "step: 7\n",
            "['share_renters_2016', 'total_Jan_precipitation', 'total_homeless', 'percent_population_65_plus', 'percentage_excessive_drinking', 'percent_pacific_islander', 'total_population']\n",
            "Adjusted R2: 0.5101526547445137\n",
            "===============\n",
            "step: 8\n",
            "['share_renters_2016', 'total_Jan_precipitation', 'total_homeless', 'percent_population_65_plus', 'percentage_excessive_drinking', 'percent_pacific_islander', 'total_population', 'share_overcrowded_units_2016']\n",
            "Adjusted R2: 0.5238189110286313\n",
            "===============\n",
            "step: 9\n",
            "['share_renters_2016', 'total_Jan_precipitation', 'total_homeless', 'percent_population_65_plus', 'percentage_excessive_drinking', 'percent_pacific_islander', 'total_population', 'share_overcrowded_units_2016', 'proportion_one_person_households']\n",
            "Adjusted R2: 0.5376539857705358\n",
            "===============\n",
            "step: 10\n",
            "['share_renters_2016', 'total_Jan_precipitation', 'total_homeless', 'percent_population_65_plus', 'percentage_excessive_drinking', 'percent_pacific_islander', 'total_population', 'share_overcrowded_units_2016', 'proportion_one_person_households', 'net_migration']\n",
            "Adjusted R2: 0.5526850569979593\n",
            "===============\n",
            "step: 11\n",
            "['share_renters_2016', 'total_Jan_precipitation', 'total_homeless', 'percent_population_65_plus', 'percentage_excessive_drinking', 'percent_pacific_islander', 'total_population', 'share_overcrowded_units_2016', 'proportion_one_person_households', 'net_migration', 'share_HUD_units']\n",
            "Adjusted R2: 0.5599670559460483\n",
            "===============\n",
            "step: 12\n",
            "['share_renters_2016', 'total_Jan_precipitation', 'total_homeless', 'percent_population_65_plus', 'percentage_excessive_drinking', 'percent_pacific_islander', 'total_population', 'share_overcrowded_units_2016', 'proportion_one_person_households', 'net_migration', 'share_HUD_units', 'log_median_rent']\n",
            "Adjusted R2: 0.5671772011194045\n",
            "===============\n",
            "step: 13\n",
            "['share_renters_2016', 'total_Jan_precipitation', 'total_homeless', 'percent_population_65_plus', 'percentage_excessive_drinking', 'percent_pacific_islander', 'total_population', 'share_overcrowded_units_2016', 'proportion_one_person_households', 'net_migration', 'share_HUD_units', 'log_median_rent', 'percent_female_population']\n",
            "Adjusted R2: 0.579206329132554\n",
            "===============\n",
            "step: 14\n",
            "['share_renters_2016', 'total_Jan_precipitation', 'total_homeless', 'percent_population_65_plus', 'percentage_excessive_drinking', 'percent_pacific_islander', 'total_population', 'share_overcrowded_units_2016', 'proportion_one_person_households', 'net_migration', 'share_HUD_units', 'log_median_rent', 'percent_female_population', 'migration_4_year_change']\n",
            "Adjusted R2: 0.5908006030702904\n",
            "===============\n",
            "step: 15\n",
            "['share_renters_2016', 'total_Jan_precipitation', 'total_homeless', 'percent_population_65_plus', 'percentage_excessive_drinking', 'percent_pacific_islander', 'total_population', 'share_overcrowded_units_2016', 'proportion_one_person_households', 'net_migration', 'share_HUD_units', 'log_median_rent', 'percent_female_population', 'migration_4_year_change', 'percent_asian']\n",
            "Adjusted R2: 0.5997614233667821\n",
            "===============\n",
            "step: 16\n",
            "['share_renters_2016', 'total_Jan_precipitation', 'total_homeless', 'percent_population_65_plus', 'percentage_excessive_drinking', 'percent_pacific_islander', 'total_population', 'share_overcrowded_units_2016', 'proportion_one_person_households', 'net_migration', 'share_HUD_units', 'log_median_rent', 'percent_female_population', 'migration_4_year_change', 'percent_asian', 'house_price_index_2009']\n",
            "Adjusted R2: 0.6036535127682965\n",
            "===============\n",
            "step: 17\n",
            "['share_renters_2016', 'total_Jan_precipitation', 'total_homeless', 'percent_population_65_plus', 'percentage_excessive_drinking', 'percent_pacific_islander', 'total_population', 'share_overcrowded_units_2016', 'proportion_one_person_households', 'net_migration', 'share_HUD_units', 'log_median_rent', 'percent_female_population', 'migration_4_year_change', 'percent_asian', 'house_price_index_2009', 'high_housing_density']\n",
            "Adjusted R2: 0.6078250772714766\n",
            "===============\n",
            "step: 18\n",
            "['share_renters_2016', 'total_Jan_precipitation', 'total_homeless', 'percent_population_65_plus', 'percentage_excessive_drinking', 'percent_pacific_islander', 'total_population', 'share_overcrowded_units_2016', 'proportion_one_person_households', 'net_migration', 'share_HUD_units', 'log_median_rent', 'percent_female_population', 'migration_4_year_change', 'percent_asian', 'house_price_index_2009', 'high_housing_density', 'rate_unemployment']\n",
            "Adjusted R2: 0.6115118945118427\n",
            "===============\n",
            "step: 19\n",
            "['share_renters_2016', 'total_Jan_precipitation', 'total_homeless', 'percent_population_65_plus', 'percentage_excessive_drinking', 'percent_pacific_islander', 'total_population', 'share_overcrowded_units_2016', 'proportion_one_person_households', 'net_migration', 'share_HUD_units', 'log_median_rent', 'percent_female_population', 'migration_4_year_change', 'percent_asian', 'house_price_index_2009', 'high_housing_density', 'rate_unemployment', 'suburban']\n",
            "Adjusted R2: 0.6162900188592444\n",
            "===============\n",
            "step: 20\n",
            "['share_renters_2016', 'total_Jan_precipitation', 'total_homeless', 'percent_population_65_plus', 'percentage_excessive_drinking', 'percent_pacific_islander', 'total_population', 'share_overcrowded_units_2016', 'proportion_one_person_households', 'net_migration', 'share_HUD_units', 'log_median_rent', 'percent_female_population', 'migration_4_year_change', 'percent_asian', 'house_price_index_2009', 'high_housing_density', 'rate_unemployment', 'suburban', 'percent_black']\n",
            "Adjusted R2: 0.6200352708819414\n",
            "===============\n",
            "step: 21\n",
            "['share_renters_2016', 'total_Jan_precipitation', 'total_homeless', 'percent_population_65_plus', 'percentage_excessive_drinking', 'percent_pacific_islander', 'total_population', 'share_overcrowded_units_2016', 'proportion_one_person_households', 'net_migration', 'share_HUD_units', 'log_median_rent', 'percent_female_population', 'migration_4_year_change', 'percent_asian', 'house_price_index_2009', 'high_housing_density', 'rate_unemployment', 'suburban', 'percent_black', 'city_or_urban']\n",
            "Adjusted R2: 0.6218364688675779\n",
            "===============\n",
            "step: 22\n",
            "['share_renters_2016', 'total_Jan_precipitation', 'total_homeless', 'percent_population_65_plus', 'percentage_excessive_drinking', 'percent_pacific_islander', 'total_population', 'share_overcrowded_units_2016', 'proportion_one_person_households', 'net_migration', 'share_HUD_units', 'log_median_rent', 'percent_female_population', 'migration_4_year_change', 'percent_asian', 'house_price_index_2009', 'high_housing_density', 'rate_unemployment', 'suburban', 'percent_black', 'city_or_urban', 'average_Jan_temperature']\n",
            "Adjusted R2: 0.6236886334066931\n",
            "===============\n",
            "step: 23\n",
            "['share_renters_2016', 'total_Jan_precipitation', 'total_homeless', 'percent_population_65_plus', 'percentage_excessive_drinking', 'percent_pacific_islander', 'total_population', 'share_overcrowded_units_2016', 'proportion_one_person_households', 'net_migration', 'share_HUD_units', 'log_median_rent', 'percent_female_population', 'migration_4_year_change', 'percent_asian', 'house_price_index_2009', 'high_housing_density', 'rate_unemployment', 'suburban', 'percent_black', 'city_or_urban', 'average_Jan_temperature', 'HUD_unit_occupancy_rate']\n",
            "Adjusted R2: 0.6249854265715183\n",
            "===============\n",
            "step: 24\n",
            "['share_renters_2016', 'total_Jan_precipitation', 'total_homeless', 'percent_population_65_plus', 'percentage_excessive_drinking', 'percent_pacific_islander', 'total_population', 'share_overcrowded_units_2016', 'proportion_one_person_households', 'net_migration', 'share_HUD_units', 'log_median_rent', 'percent_female_population', 'migration_4_year_change', 'percent_asian', 'house_price_index_2009', 'high_housing_density', 'rate_unemployment', 'suburban', 'percent_black', 'city_or_urban', 'average_Jan_temperature', 'HUD_unit_occupancy_rate', 'medicare_reimbursements_per_enrollee']\n",
            "Adjusted R2: 0.626165539576387\n",
            "===============\n",
            "step: 25\n",
            "['share_renters_2016', 'total_Jan_precipitation', 'total_homeless', 'percent_population_65_plus', 'percentage_excessive_drinking', 'percent_pacific_islander', 'total_population', 'share_overcrowded_units_2016', 'proportion_one_person_households', 'net_migration', 'share_HUD_units', 'log_median_rent', 'percent_female_population', 'migration_4_year_change', 'percent_asian', 'house_price_index_2009', 'high_housing_density', 'rate_unemployment', 'suburban', 'percent_black', 'city_or_urban', 'average_Jan_temperature', 'HUD_unit_occupancy_rate', 'medicare_reimbursements_per_enrollee', 'share_under_18_with_single_parent']\n",
            "Adjusted R2: 0.6277492088095309\n",
            "===============\n",
            "step: 26\n",
            "['share_renters_2016', 'total_Jan_precipitation', 'total_homeless', 'percent_population_65_plus', 'percentage_excessive_drinking', 'percent_pacific_islander', 'total_population', 'share_overcrowded_units_2016', 'proportion_one_person_households', 'net_migration', 'share_HUD_units', 'log_median_rent', 'percent_female_population', 'migration_4_year_change', 'percent_asian', 'house_price_index_2009', 'high_housing_density', 'rate_unemployment', 'suburban', 'percent_black', 'city_or_urban', 'average_Jan_temperature', 'HUD_unit_occupancy_rate', 'medicare_reimbursements_per_enrollee', 'share_under_18_with_single_parent', 'share_veteran_status']\n",
            "Adjusted R2: 0.6284165833291789\n",
            "===============\n",
            "step: 27\n",
            "['share_renters_2016', 'total_Jan_precipitation', 'total_homeless', 'percent_population_65_plus', 'percentage_excessive_drinking', 'percent_pacific_islander', 'total_population', 'share_overcrowded_units_2016', 'proportion_one_person_households', 'net_migration', 'share_HUD_units', 'log_median_rent', 'percent_female_population', 'migration_4_year_change', 'percent_asian', 'house_price_index_2009', 'high_housing_density', 'rate_unemployment', 'suburban', 'percent_black', 'city_or_urban', 'average_Jan_temperature', 'HUD_unit_occupancy_rate', 'medicare_reimbursements_per_enrollee', 'share_under_18_with_single_parent', 'share_veteran_status', 'share_no_bachelors']\n",
            "Adjusted R2: 0.6293228858697708\n",
            "===============\n",
            "step: 28\n",
            "['share_renters_2016', 'total_Jan_precipitation', 'total_homeless', 'percent_population_65_plus', 'percentage_excessive_drinking', 'percent_pacific_islander', 'total_population', 'share_overcrowded_units_2016', 'proportion_one_person_households', 'net_migration', 'share_HUD_units', 'log_median_rent', 'percent_female_population', 'migration_4_year_change', 'percent_asian', 'house_price_index_2009', 'high_housing_density', 'rate_unemployment', 'suburban', 'percent_black', 'city_or_urban', 'average_Jan_temperature', 'HUD_unit_occupancy_rate', 'medicare_reimbursements_per_enrollee', 'share_under_18_with_single_parent', 'share_veteran_status', 'share_no_bachelors', 'poverty_rate']\n",
            "Adjusted R2: 0.6299565241176565\n",
            "===============\n",
            "step: 29\n",
            "['share_renters_2016', 'total_Jan_precipitation', 'total_homeless', 'percent_population_65_plus', 'percentage_excessive_drinking', 'percent_pacific_islander', 'total_population', 'share_overcrowded_units_2016', 'proportion_one_person_households', 'net_migration', 'share_HUD_units', 'log_median_rent', 'percent_female_population', 'migration_4_year_change', 'percent_asian', 'house_price_index_2009', 'high_housing_density', 'rate_unemployment', 'suburban', 'percent_black', 'city_or_urban', 'average_Jan_temperature', 'HUD_unit_occupancy_rate', 'medicare_reimbursements_per_enrollee', 'share_under_18_with_single_parent', 'share_veteran_status', 'share_no_bachelors', 'poverty_rate', 'gini_coefficient_2016']\n",
            "Adjusted R2: 0.6309377774425708\n",
            "===============\n",
            "step: 30\n",
            "['share_renters_2016', 'total_Jan_precipitation', 'total_homeless', 'percent_population_65_plus', 'percentage_excessive_drinking', 'percent_pacific_islander', 'total_population', 'share_overcrowded_units_2016', 'proportion_one_person_households', 'net_migration', 'share_HUD_units', 'log_median_rent', 'percent_female_population', 'migration_4_year_change', 'percent_asian', 'house_price_index_2009', 'high_housing_density', 'rate_unemployment', 'suburban', 'percent_black', 'city_or_urban', 'average_Jan_temperature', 'HUD_unit_occupancy_rate', 'medicare_reimbursements_per_enrollee', 'share_under_18_with_single_parent', 'share_veteran_status', 'share_no_bachelors', 'poverty_rate', 'gini_coefficient_2016', 'percent_population_0_19']\n",
            "Adjusted R2: 0.6316330615821008\n",
            "===============\n",
            "step: 31\n",
            "['share_renters_2016', 'total_Jan_precipitation', 'total_homeless', 'percent_population_65_plus', 'percentage_excessive_drinking', 'percent_pacific_islander', 'total_population', 'share_overcrowded_units_2016', 'proportion_one_person_households', 'net_migration', 'share_HUD_units', 'log_median_rent', 'percent_female_population', 'migration_4_year_change', 'percent_asian', 'house_price_index_2009', 'high_housing_density', 'rate_unemployment', 'suburban', 'percent_black', 'city_or_urban', 'average_Jan_temperature', 'HUD_unit_occupancy_rate', 'medicare_reimbursements_per_enrollee', 'share_under_18_with_single_parent', 'share_veteran_status', 'share_no_bachelors', 'poverty_rate', 'gini_coefficient_2016', 'percent_population_0_19', 'utility_costs']\n",
            "Adjusted R2: 0.6321248897653253\n",
            "===============\n",
            "step: 32\n",
            "['share_renters_2016', 'total_Jan_precipitation', 'total_homeless', 'percent_population_65_plus', 'percentage_excessive_drinking', 'percent_pacific_islander', 'total_population', 'share_overcrowded_units_2016', 'proportion_one_person_households', 'net_migration', 'share_HUD_units', 'log_median_rent', 'percent_female_population', 'migration_4_year_change', 'percent_asian', 'house_price_index_2009', 'high_housing_density', 'rate_unemployment', 'suburban', 'percent_black', 'city_or_urban', 'average_Jan_temperature', 'HUD_unit_occupancy_rate', 'medicare_reimbursements_per_enrollee', 'share_under_18_with_single_parent', 'share_veteran_status', 'share_no_bachelors', 'poverty_rate', 'gini_coefficient_2016', 'percent_population_0_19', 'utility_costs', 'percent_latino_hispanic']\n",
            "Adjusted R2: 0.6324812728826896\n",
            "===============\n",
            "step: 33\n",
            "['share_renters_2016', 'total_Jan_precipitation', 'total_homeless', 'percent_population_65_plus', 'percentage_excessive_drinking', 'percent_pacific_islander', 'total_population', 'share_overcrowded_units_2016', 'proportion_one_person_households', 'net_migration', 'share_HUD_units', 'log_median_rent', 'percent_female_population', 'migration_4_year_change', 'percent_asian', 'house_price_index_2009', 'high_housing_density', 'rate_unemployment', 'suburban', 'percent_black', 'city_or_urban', 'average_Jan_temperature', 'HUD_unit_occupancy_rate', 'medicare_reimbursements_per_enrollee', 'share_under_18_with_single_parent', 'share_veteran_status', 'share_no_bachelors', 'poverty_rate', 'gini_coefficient_2016', 'percent_population_0_19', 'utility_costs', 'percent_latino_hispanic', 'percentage_owners_cost_burden_2016']\n",
            "Adjusted R2: 0.632773657780791\n",
            "===============\n",
            "step: 34\n",
            "['share_renters_2016', 'total_Jan_precipitation', 'total_homeless', 'percent_population_65_plus', 'percentage_excessive_drinking', 'percent_pacific_islander', 'total_population', 'share_overcrowded_units_2016', 'proportion_one_person_households', 'net_migration', 'share_HUD_units', 'log_median_rent', 'percent_female_population', 'migration_4_year_change', 'percent_asian', 'house_price_index_2009', 'high_housing_density', 'rate_unemployment', 'suburban', 'percent_black', 'city_or_urban', 'average_Jan_temperature', 'HUD_unit_occupancy_rate', 'medicare_reimbursements_per_enrollee', 'share_under_18_with_single_parent', 'share_veteran_status', 'share_no_bachelors', 'poverty_rate', 'gini_coefficient_2016', 'percent_population_0_19', 'utility_costs', 'percent_latino_hispanic', 'percentage_owners_cost_burden_2016', 'rental_vacancy_rate']\n",
            "Adjusted R2: 0.6329567899342363\n",
            "===============\n",
            "step: 35\n",
            "['share_renters_2016', 'total_Jan_precipitation', 'total_homeless', 'percent_population_65_plus', 'percentage_excessive_drinking', 'percent_pacific_islander', 'total_population', 'share_overcrowded_units_2016', 'proportion_one_person_households', 'net_migration', 'share_HUD_units', 'log_median_rent', 'percent_female_population', 'migration_4_year_change', 'percent_asian', 'house_price_index_2009', 'high_housing_density', 'rate_unemployment', 'suburban', 'percent_black', 'city_or_urban', 'average_Jan_temperature', 'HUD_unit_occupancy_rate', 'medicare_reimbursements_per_enrollee', 'share_under_18_with_single_parent', 'share_veteran_status', 'share_no_bachelors', 'poverty_rate', 'gini_coefficient_2016', 'percent_population_0_19', 'utility_costs', 'percent_latino_hispanic', 'percentage_owners_cost_burden_2016', 'rental_vacancy_rate', 'federal_funding_change']\n",
            "Adjusted R2: 0.6331096453841755\n",
            "===============\n",
            "step: 36\n",
            "['share_renters_2016', 'total_Jan_precipitation', 'total_homeless', 'percent_population_65_plus', 'percentage_excessive_drinking', 'percent_pacific_islander', 'total_population', 'share_overcrowded_units_2016', 'proportion_one_person_households', 'net_migration', 'share_HUD_units', 'log_median_rent', 'percent_female_population', 'migration_4_year_change', 'percent_asian', 'house_price_index_2009', 'high_housing_density', 'rate_unemployment', 'suburban', 'percent_black', 'city_or_urban', 'average_Jan_temperature', 'HUD_unit_occupancy_rate', 'medicare_reimbursements_per_enrollee', 'share_under_18_with_single_parent', 'share_veteran_status', 'share_no_bachelors', 'poverty_rate', 'gini_coefficient_2016', 'percent_population_0_19', 'utility_costs', 'percent_latino_hispanic', 'percentage_owners_cost_burden_2016', 'rental_vacancy_rate', 'federal_funding_change', 'number_eviction']\n",
            "Adjusted R2: 0.6332704089321594\n",
            "===============\n",
            "step: 37\n",
            "['share_renters_2016', 'total_Jan_precipitation', 'total_homeless', 'percent_population_65_plus', 'percentage_excessive_drinking', 'percent_pacific_islander', 'total_population', 'share_overcrowded_units_2016', 'proportion_one_person_households', 'net_migration', 'share_HUD_units', 'log_median_rent', 'percent_female_population', 'migration_4_year_change', 'percent_asian', 'house_price_index_2009', 'high_housing_density', 'rate_unemployment', 'suburban', 'percent_black', 'city_or_urban', 'average_Jan_temperature', 'HUD_unit_occupancy_rate', 'medicare_reimbursements_per_enrollee', 'share_under_18_with_single_parent', 'share_veteran_status', 'share_no_bachelors', 'poverty_rate', 'gini_coefficient_2016', 'percent_population_0_19', 'utility_costs', 'percent_latino_hispanic', 'percentage_owners_cost_burden_2016', 'rental_vacancy_rate', 'federal_funding_change', 'number_eviction', 'share_built_before_1940']\n",
            "Adjusted R2: 0.6333252655610473\n",
            "===============\n",
            "step: 38\n",
            "['share_renters_2016', 'total_Jan_precipitation', 'total_homeless', 'percent_population_65_plus', 'percentage_excessive_drinking', 'percent_pacific_islander', 'total_population', 'share_overcrowded_units_2016', 'proportion_one_person_households', 'net_migration', 'share_HUD_units', 'log_median_rent', 'percent_female_population', 'migration_4_year_change', 'percent_asian', 'house_price_index_2009', 'high_housing_density', 'rate_unemployment', 'suburban', 'percent_black', 'city_or_urban', 'average_Jan_temperature', 'HUD_unit_occupancy_rate', 'medicare_reimbursements_per_enrollee', 'share_under_18_with_single_parent', 'share_veteran_status', 'share_no_bachelors', 'poverty_rate', 'gini_coefficient_2016', 'percent_population_0_19', 'utility_costs', 'percent_latino_hispanic', 'percentage_owners_cost_burden_2016', 'rental_vacancy_rate', 'federal_funding_change', 'number_eviction', 'share_built_before_1940', 'federal_funding']\n",
            "Adjusted R2: 0.6334108424038152\n",
            "===============\n",
            "step: 39\n",
            "['share_renters_2016', 'total_Jan_precipitation', 'total_homeless', 'percent_population_65_plus', 'percentage_excessive_drinking', 'percent_pacific_islander', 'total_population', 'share_overcrowded_units_2016', 'proportion_one_person_households', 'net_migration', 'share_HUD_units', 'log_median_rent', 'percent_female_population', 'migration_4_year_change', 'percent_asian', 'house_price_index_2009', 'high_housing_density', 'rate_unemployment', 'suburban', 'percent_black', 'city_or_urban', 'average_Jan_temperature', 'HUD_unit_occupancy_rate', 'medicare_reimbursements_per_enrollee', 'share_under_18_with_single_parent', 'share_veteran_status', 'share_no_bachelors', 'poverty_rate', 'gini_coefficient_2016', 'percent_population_0_19', 'utility_costs', 'percent_latino_hispanic', 'percentage_owners_cost_burden_2016', 'rental_vacancy_rate', 'federal_funding_change', 'number_eviction', 'share_built_before_1940', 'federal_funding', 'total_annual_precipitation']\n",
            "Adjusted R2: 0.6334456079172313\n",
            "===============\n",
            "step: 40\n",
            "['share_renters_2016', 'total_Jan_precipitation', 'total_homeless', 'percent_population_65_plus', 'percentage_excessive_drinking', 'percent_pacific_islander', 'total_population', 'share_overcrowded_units_2016', 'proportion_one_person_households', 'net_migration', 'share_HUD_units', 'log_median_rent', 'percent_female_population', 'migration_4_year_change', 'percent_asian', 'house_price_index_2009', 'high_housing_density', 'rate_unemployment', 'suburban', 'percent_black', 'city_or_urban', 'average_Jan_temperature', 'HUD_unit_occupancy_rate', 'medicare_reimbursements_per_enrollee', 'share_under_18_with_single_parent', 'share_veteran_status', 'share_no_bachelors', 'poverty_rate', 'gini_coefficient_2016', 'percent_population_0_19', 'utility_costs', 'percent_latino_hispanic', 'percentage_owners_cost_burden_2016', 'rental_vacancy_rate', 'federal_funding_change', 'number_eviction', 'share_built_before_1940', 'federal_funding', 'total_annual_precipitation', 'percentage_renters_severe_cost_burden_2016']\n",
            "Adjusted R2: 0.6334659153521575\n",
            "===============\n",
            "step: 41\n",
            "['share_renters_2016', 'total_Jan_precipitation', 'total_homeless', 'percent_population_65_plus', 'percentage_excessive_drinking', 'percent_pacific_islander', 'total_population', 'share_overcrowded_units_2016', 'proportion_one_person_households', 'net_migration', 'share_HUD_units', 'log_median_rent', 'percent_female_population', 'migration_4_year_change', 'percent_asian', 'house_price_index_2009', 'high_housing_density', 'rate_unemployment', 'suburban', 'percent_black', 'city_or_urban', 'average_Jan_temperature', 'HUD_unit_occupancy_rate', 'medicare_reimbursements_per_enrollee', 'share_under_18_with_single_parent', 'share_veteran_status', 'share_no_bachelors', 'poverty_rate', 'gini_coefficient_2016', 'percent_population_0_19', 'utility_costs', 'percent_latino_hispanic', 'percentage_owners_cost_burden_2016', 'rental_vacancy_rate', 'federal_funding_change', 'number_eviction', 'share_built_before_1940', 'federal_funding', 'total_annual_precipitation', 'percentage_renters_severe_cost_burden_2016', 'average_summer_temperature']\n",
            "Adjusted R2: 0.6334693922660526\n",
            "===============\n",
            "                            OLS Regression Results                            \n",
            "==============================================================================\n",
            "Dep. Variable:          rate_homeless   R-squared:                       0.633\n",
            "Model:                            OLS   Adj. R-squared:                  0.588\n",
            "Method:                 Least Squares   F-statistic:                     13.99\n",
            "Date:                Thu, 25 May 2023   Prob (F-statistic):           7.39e-51\n",
            "Time:                        07:42:15   Log-Likelihood:                -1368.0\n",
            "No. Observations:                 374   AIC:                             2820.\n",
            "Df Residuals:                     332   BIC:                             2985.\n",
            "Df Model:                          41                                         \n",
            "Covariance Type:            nonrobust                                         \n",
            "==============================================================================================================\n",
            "                                                 coef    std err          t      P>|t|      [0.025      0.975]\n",
            "--------------------------------------------------------------------------------------------------------------\n",
            "Intercept                                    -19.2158     62.560     -0.307      0.759    -142.280     103.849\n",
            "average_summer_temperature                     0.0140      0.249      0.056      0.955      -0.475       0.503\n",
            "share_renters_2016                            -0.0400      0.191     -0.210      0.834      -0.415       0.335\n",
            "total_Jan_precipitation                        0.9296      0.199      4.663      0.000       0.537       1.322\n",
            "total_homeless                                 0.0013      0.000      5.448      0.000       0.001       0.002\n",
            "percent_population_65_plus                   -22.3723     42.522     -0.526      0.599    -106.018      61.274\n",
            "percentage_excessive_drinking                 24.1923     28.787      0.840      0.401     -32.436      80.821\n",
            "percent_pacific_islander                     303.0359    112.516      2.693      0.007      81.703     524.369\n",
            "total_population                           -3.295e-06   1.04e-06     -3.175      0.002   -5.34e-06   -1.25e-06\n",
            "share_overcrowded_units_2016                   0.5256      0.819      0.642      0.522      -1.086       2.137\n",
            "proportion_one_person_households               1.4946      0.351      4.255      0.000       0.804       2.186\n",
            "net_migration                                  0.0001   8.38e-05      1.429      0.154   -4.51e-05       0.000\n",
            "share_HUD_units                                1.5543      0.597      2.604      0.010       0.380       2.728\n",
            "log_median_rent                               25.1387      6.988      3.598      0.000      11.393      38.884\n",
            "percent_female_population                   -170.1769     92.701     -1.836      0.067    -352.532      12.178\n",
            "migration_4_year_change                        3.0376      1.039      2.925      0.004       0.995       5.081\n",
            "percent_asian                                -39.4508     20.318     -1.942      0.053     -79.418       0.517\n",
            "house_price_index_2009                         0.0834      0.059      1.413      0.159      -0.033       0.199\n",
            "high_housing_density                          -1.7783      1.907     -0.932      0.352      -5.530       1.974\n",
            "rate_unemployment                              1.3650      0.493      2.771      0.006       0.396       2.334\n",
            "suburban                                      -4.7196      1.951     -2.419      0.016      -8.558      -0.881\n",
            "percent_black                                -29.4482     12.437     -2.368      0.018     -53.913      -4.983\n",
            "city_or_urban                                 -2.6223      2.171     -1.208      0.228      -6.894       1.649\n",
            "average_Jan_temperature                        0.1715      0.149      1.151      0.251      -0.122       0.465\n",
            "HUD_unit_occupancy_rate                       -0.1877      0.141     -1.327      0.185      -0.466       0.090\n",
            "medicare_reimbursements_per_enrollee          -1.1705      0.762     -1.537      0.125      -2.669       0.328\n",
            "share_under_18_with_single_parent              0.3568      0.274      1.300      0.195      -0.183       0.897\n",
            "share_veteran_status                          -0.2901      0.347     -0.835      0.404      -0.973       0.393\n",
            "share_no_bachelors                             0.1877      0.180      1.040      0.299      -0.167       0.542\n",
            "poverty_rate                                  -0.4483      0.434     -1.032      0.303      -1.303       0.406\n",
            "gini_coefficient_2016                          0.3155      0.403      0.784      0.434      -0.476       1.107\n",
            "percent_population_0_19                       52.6054     54.741      0.961      0.337     -55.078     160.289\n",
            "utility_costs                                 -0.2118      0.291     -0.727      0.468      -0.785       0.361\n",
            "percent_latino_hispanic                       -5.1144     10.376     -0.493      0.622     -25.526      15.297\n",
            "percentage_owners_cost_burden_2016             0.1492      0.432      0.345      0.730      -0.701       1.000\n",
            "rental_vacancy_rate                           -0.1097      0.274     -0.400      0.689      -0.649       0.429\n",
            "federal_funding_change                         0.0180      0.036      0.497      0.619      -0.053       0.089\n",
            "number_eviction                             9.125e-05      0.000      0.409      0.683      -0.000       0.001\n",
            "share_built_before_1940                        0.0298      0.103      0.290      0.772      -0.173       0.232\n",
            "federal_funding                               -0.0043      0.016     -0.272      0.786      -0.035       0.027\n",
            "total_annual_precipitation                     0.0105      0.057      0.184      0.854      -0.102       0.122\n",
            "percentage_renters_severe_cost_burden_2016     0.0333      0.238      0.140      0.889      -0.436       0.502\n",
            "==============================================================================\n",
            "Omnibus:                      240.588   Durbin-Watson:                   1.791\n",
            "Prob(Omnibus):                  0.000   Jarque-Bera (JB):             5107.411\n",
            "Skew:                           2.307   Prob(JB):                         0.00\n",
            "Kurtosis:                      20.506   Cond. No.                     3.37e+08\n",
            "==============================================================================\n",
            "\n",
            "Notes:\n",
            "[1] Standard Errors assume that the covariance matrix of the errors is correctly specified.\n",
            "[2] The condition number is large, 3.37e+08. This might indicate that there are\n",
            "strong multicollinearity or other numerical problems.\n",
            "\n",
            "\n",
            "\n",
            "elminated variables: \n",
            "set()\n"
          ]
        }
      ]
    },
    {
      "cell_type": "code",
      "source": [],
      "metadata": {
        "id": "aRkOXJarjz8u"
      },
      "execution_count": 246,
      "outputs": []
    }
  ]
}